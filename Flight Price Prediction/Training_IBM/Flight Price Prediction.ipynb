{
 "cells": [
  {
   "cell_type": "code",
   "execution_count": 1,
   "metadata": {},
   "outputs": [
    {
     "data": {
      "text/html": [
       "<div>\n",
       "<style scoped>\n",
       "    .dataframe tbody tr th:only-of-type {\n",
       "        vertical-align: middle;\n",
       "    }\n",
       "\n",
       "    .dataframe tbody tr th {\n",
       "        vertical-align: top;\n",
       "    }\n",
       "\n",
       "    .dataframe thead th {\n",
       "        text-align: right;\n",
       "    }\n",
       "</style>\n",
       "<table border=\"1\" class=\"dataframe\">\n",
       "  <thead>\n",
       "    <tr style=\"text-align: right;\">\n",
       "      <th></th>\n",
       "      <th>Airline</th>\n",
       "      <th>Date_of_Journey</th>\n",
       "      <th>Source</th>\n",
       "      <th>Destination</th>\n",
       "      <th>Route</th>\n",
       "      <th>Dep_Time</th>\n",
       "      <th>Arrival_Time</th>\n",
       "      <th>Duration</th>\n",
       "      <th>Total_Stops</th>\n",
       "      <th>Additional_Info</th>\n",
       "      <th>Price</th>\n",
       "    </tr>\n",
       "  </thead>\n",
       "  <tbody>\n",
       "    <tr>\n",
       "      <th>0</th>\n",
       "      <td>IndiGo</td>\n",
       "      <td>24/03/2019</td>\n",
       "      <td>Banglore</td>\n",
       "      <td>New Delhi</td>\n",
       "      <td>BLR → DEL</td>\n",
       "      <td>22:20</td>\n",
       "      <td>01:10 22 Mar</td>\n",
       "      <td>2h 50m</td>\n",
       "      <td>non-stop</td>\n",
       "      <td>No info</td>\n",
       "      <td>3897</td>\n",
       "    </tr>\n",
       "    <tr>\n",
       "      <th>1</th>\n",
       "      <td>Air India</td>\n",
       "      <td>1/05/2019</td>\n",
       "      <td>Kolkata</td>\n",
       "      <td>Banglore</td>\n",
       "      <td>CCU → IXR → BBI → BLR</td>\n",
       "      <td>05:50</td>\n",
       "      <td>13:15</td>\n",
       "      <td>7h 25m</td>\n",
       "      <td>2 stops</td>\n",
       "      <td>No info</td>\n",
       "      <td>7662</td>\n",
       "    </tr>\n",
       "    <tr>\n",
       "      <th>2</th>\n",
       "      <td>Jet Airways</td>\n",
       "      <td>9/06/2019</td>\n",
       "      <td>Delhi</td>\n",
       "      <td>Cochin</td>\n",
       "      <td>DEL → LKO → BOM → COK</td>\n",
       "      <td>09:25</td>\n",
       "      <td>04:25 10 Jun</td>\n",
       "      <td>19h</td>\n",
       "      <td>2 stops</td>\n",
       "      <td>No info</td>\n",
       "      <td>13882</td>\n",
       "    </tr>\n",
       "    <tr>\n",
       "      <th>3</th>\n",
       "      <td>IndiGo</td>\n",
       "      <td>12/05/2019</td>\n",
       "      <td>Kolkata</td>\n",
       "      <td>Banglore</td>\n",
       "      <td>CCU → NAG → BLR</td>\n",
       "      <td>18:05</td>\n",
       "      <td>23:30</td>\n",
       "      <td>5h 25m</td>\n",
       "      <td>1 stop</td>\n",
       "      <td>No info</td>\n",
       "      <td>6218</td>\n",
       "    </tr>\n",
       "    <tr>\n",
       "      <th>4</th>\n",
       "      <td>IndiGo</td>\n",
       "      <td>01/03/2019</td>\n",
       "      <td>Banglore</td>\n",
       "      <td>New Delhi</td>\n",
       "      <td>BLR → NAG → DEL</td>\n",
       "      <td>16:50</td>\n",
       "      <td>21:35</td>\n",
       "      <td>4h 45m</td>\n",
       "      <td>1 stop</td>\n",
       "      <td>No info</td>\n",
       "      <td>13302</td>\n",
       "    </tr>\n",
       "  </tbody>\n",
       "</table>\n",
       "</div>"
      ],
      "text/plain": [
       "       Airline Date_of_Journey    Source Destination                  Route  \\\n",
       "0       IndiGo      24/03/2019  Banglore   New Delhi              BLR → DEL   \n",
       "1    Air India       1/05/2019   Kolkata    Banglore  CCU → IXR → BBI → BLR   \n",
       "2  Jet Airways       9/06/2019     Delhi      Cochin  DEL → LKO → BOM → COK   \n",
       "3       IndiGo      12/05/2019   Kolkata    Banglore        CCU → NAG → BLR   \n",
       "4       IndiGo      01/03/2019  Banglore   New Delhi        BLR → NAG → DEL   \n",
       "\n",
       "  Dep_Time  Arrival_Time Duration Total_Stops Additional_Info  Price  \n",
       "0    22:20  01:10 22 Mar   2h 50m    non-stop         No info   3897  \n",
       "1    05:50         13:15   7h 25m     2 stops         No info   7662  \n",
       "2    09:25  04:25 10 Jun      19h     2 stops         No info  13882  \n",
       "3    18:05         23:30   5h 25m      1 stop         No info   6218  \n",
       "4    16:50         21:35   4h 45m      1 stop         No info  13302  "
      ]
     },
     "execution_count": 1,
     "metadata": {},
     "output_type": "execute_result"
    }
   ],
   "source": [
    "\n",
    "import os, types\n",
    "import pandas as pd\n",
    "from botocore.client import Config\n",
    "import ibm_boto3\n",
    "\n",
    "def __iter__(self): return 0\n",
    "\n",
    "# @hidden_cell\n",
    "# The following code accesses a file in your IBM Cloud Object Storage. It includes your credentials.\n",
    "# You might want to remove those credentials before you share the notebook.\n",
    "client_11d6882aba4a4088b92e5b1911d45304 = ibm_boto3.client(service_name='s3',\n",
    "    ibm_api_key_id='tLNqnn7kqNA1hXnNqcW7zGHMgcYqeXVV5meqI0ZRnSo0',\n",
    "    ibm_auth_endpoint=\"https://iam.cloud.ibm.com/oidc/token\",\n",
    "    config=Config(signature_version='oauth'),\n",
    "    endpoint_url='https://s3.private.us.cloud-object-storage.appdomain.cloud')\n",
    "\n",
    "body = client_11d6882aba4a4088b92e5b1911d45304.get_object(Bucket='flightpriceprediction-donotdelete-pr-y3oeapi2czacmr',Key='Data_Train.csv')['Body']\n",
    "# add missing __iter__ method, so pandas accepts body as file-like object\n",
    "if not hasattr(body, \"__iter__\"): body.__iter__ = types.MethodType( __iter__, body )\n",
    "\n",
    "data = pd.read_csv(body)\n",
    "data.head()\n"
   ]
  },
  {
   "cell_type": "code",
   "execution_count": 2,
   "metadata": {},
   "outputs": [],
   "source": [
    "import pandas as pd\n",
    "import numpy as np\n",
    "import matplotlib.pyplot as plt"
   ]
  },
  {
   "cell_type": "code",
   "execution_count": 3,
   "metadata": {
    "scrolled": true
   },
   "outputs": [
    {
     "data": {
      "text/html": [
       "<div>\n",
       "<style scoped>\n",
       "    .dataframe tbody tr th:only-of-type {\n",
       "        vertical-align: middle;\n",
       "    }\n",
       "\n",
       "    .dataframe tbody tr th {\n",
       "        vertical-align: top;\n",
       "    }\n",
       "\n",
       "    .dataframe thead th {\n",
       "        text-align: right;\n",
       "    }\n",
       "</style>\n",
       "<table border=\"1\" class=\"dataframe\">\n",
       "  <thead>\n",
       "    <tr style=\"text-align: right;\">\n",
       "      <th></th>\n",
       "      <th>Airline</th>\n",
       "      <th>Date_of_Journey</th>\n",
       "      <th>Source</th>\n",
       "      <th>Destination</th>\n",
       "      <th>Route</th>\n",
       "      <th>Dep_Time</th>\n",
       "      <th>Arrival_Time</th>\n",
       "      <th>Duration</th>\n",
       "      <th>Total_Stops</th>\n",
       "      <th>Additional_Info</th>\n",
       "      <th>Price</th>\n",
       "    </tr>\n",
       "  </thead>\n",
       "  <tbody>\n",
       "    <tr>\n",
       "      <th>0</th>\n",
       "      <td>IndiGo</td>\n",
       "      <td>24/03/2019</td>\n",
       "      <td>Banglore</td>\n",
       "      <td>New Delhi</td>\n",
       "      <td>BLR → DEL</td>\n",
       "      <td>22:20</td>\n",
       "      <td>01:10 22 Mar</td>\n",
       "      <td>2h 50m</td>\n",
       "      <td>non-stop</td>\n",
       "      <td>No info</td>\n",
       "      <td>3897</td>\n",
       "    </tr>\n",
       "    <tr>\n",
       "      <th>1</th>\n",
       "      <td>Air India</td>\n",
       "      <td>1/05/2019</td>\n",
       "      <td>Kolkata</td>\n",
       "      <td>Banglore</td>\n",
       "      <td>CCU → IXR → BBI → BLR</td>\n",
       "      <td>05:50</td>\n",
       "      <td>13:15</td>\n",
       "      <td>7h 25m</td>\n",
       "      <td>2 stops</td>\n",
       "      <td>No info</td>\n",
       "      <td>7662</td>\n",
       "    </tr>\n",
       "    <tr>\n",
       "      <th>2</th>\n",
       "      <td>Jet Airways</td>\n",
       "      <td>9/06/2019</td>\n",
       "      <td>Delhi</td>\n",
       "      <td>Cochin</td>\n",
       "      <td>DEL → LKO → BOM → COK</td>\n",
       "      <td>09:25</td>\n",
       "      <td>04:25 10 Jun</td>\n",
       "      <td>19h</td>\n",
       "      <td>2 stops</td>\n",
       "      <td>No info</td>\n",
       "      <td>13882</td>\n",
       "    </tr>\n",
       "    <tr>\n",
       "      <th>3</th>\n",
       "      <td>IndiGo</td>\n",
       "      <td>12/05/2019</td>\n",
       "      <td>Kolkata</td>\n",
       "      <td>Banglore</td>\n",
       "      <td>CCU → NAG → BLR</td>\n",
       "      <td>18:05</td>\n",
       "      <td>23:30</td>\n",
       "      <td>5h 25m</td>\n",
       "      <td>1 stop</td>\n",
       "      <td>No info</td>\n",
       "      <td>6218</td>\n",
       "    </tr>\n",
       "    <tr>\n",
       "      <th>4</th>\n",
       "      <td>IndiGo</td>\n",
       "      <td>01/03/2019</td>\n",
       "      <td>Banglore</td>\n",
       "      <td>New Delhi</td>\n",
       "      <td>BLR → NAG → DEL</td>\n",
       "      <td>16:50</td>\n",
       "      <td>21:35</td>\n",
       "      <td>4h 45m</td>\n",
       "      <td>1 stop</td>\n",
       "      <td>No info</td>\n",
       "      <td>13302</td>\n",
       "    </tr>\n",
       "  </tbody>\n",
       "</table>\n",
       "</div>"
      ],
      "text/plain": [
       "       Airline Date_of_Journey    Source Destination                  Route  \\\n",
       "0       IndiGo      24/03/2019  Banglore   New Delhi              BLR → DEL   \n",
       "1    Air India       1/05/2019   Kolkata    Banglore  CCU → IXR → BBI → BLR   \n",
       "2  Jet Airways       9/06/2019     Delhi      Cochin  DEL → LKO → BOM → COK   \n",
       "3       IndiGo      12/05/2019   Kolkata    Banglore        CCU → NAG → BLR   \n",
       "4       IndiGo      01/03/2019  Banglore   New Delhi        BLR → NAG → DEL   \n",
       "\n",
       "  Dep_Time  Arrival_Time Duration Total_Stops Additional_Info  Price  \n",
       "0    22:20  01:10 22 Mar   2h 50m    non-stop         No info   3897  \n",
       "1    05:50         13:15   7h 25m     2 stops         No info   7662  \n",
       "2    09:25  04:25 10 Jun      19h     2 stops         No info  13882  \n",
       "3    18:05         23:30   5h 25m      1 stop         No info   6218  \n",
       "4    16:50         21:35   4h 45m      1 stop         No info  13302  "
      ]
     },
     "execution_count": 3,
     "metadata": {},
     "output_type": "execute_result"
    }
   ],
   "source": [
    "data.head()"
   ]
  },
  {
   "cell_type": "code",
   "execution_count": 4,
   "metadata": {},
   "outputs": [
    {
     "data": {
      "text/plain": [
       "(10683, 11)"
      ]
     },
     "execution_count": 4,
     "metadata": {},
     "output_type": "execute_result"
    }
   ],
   "source": [
    "data.shape"
   ]
  },
  {
   "cell_type": "code",
   "execution_count": 5,
   "metadata": {},
   "outputs": [
    {
     "name": "stdout",
     "output_type": "stream",
     "text": [
      "<class 'pandas.core.frame.DataFrame'>\n",
      "RangeIndex: 10683 entries, 0 to 10682\n",
      "Data columns (total 11 columns):\n",
      " #   Column           Non-Null Count  Dtype \n",
      "---  ------           --------------  ----- \n",
      " 0   Airline          10683 non-null  object\n",
      " 1   Date_of_Journey  10683 non-null  object\n",
      " 2   Source           10683 non-null  object\n",
      " 3   Destination      10683 non-null  object\n",
      " 4   Route            10682 non-null  object\n",
      " 5   Dep_Time         10683 non-null  object\n",
      " 6   Arrival_Time     10683 non-null  object\n",
      " 7   Duration         10683 non-null  object\n",
      " 8   Total_Stops      10682 non-null  object\n",
      " 9   Additional_Info  10683 non-null  object\n",
      " 10  Price            10683 non-null  int64 \n",
      "dtypes: int64(1), object(10)\n",
      "memory usage: 918.2+ KB\n"
     ]
    }
   ],
   "source": [
    "#information of dataset\n",
    "\n",
    "data.info()"
   ]
  },
  {
   "cell_type": "code",
   "execution_count": 6,
   "metadata": {},
   "outputs": [
    {
     "data": {
      "text/plain": [
       "Airline            False\n",
       "Date_of_Journey    False\n",
       "Source             False\n",
       "Destination        False\n",
       "Route               True\n",
       "Dep_Time           False\n",
       "Arrival_Time       False\n",
       "Duration           False\n",
       "Total_Stops         True\n",
       "Additional_Info    False\n",
       "Price              False\n",
       "dtype: bool"
      ]
     },
     "execution_count": 6,
     "metadata": {},
     "output_type": "execute_result"
    }
   ],
   "source": [
    "data.isnull().any()"
   ]
  },
  {
   "cell_type": "code",
   "execution_count": 7,
   "metadata": {},
   "outputs": [
    {
     "data": {
      "text/plain": [
       "Airline            0\n",
       "Date_of_Journey    0\n",
       "Source             0\n",
       "Destination        0\n",
       "Route              1\n",
       "Dep_Time           0\n",
       "Arrival_Time       0\n",
       "Duration           0\n",
       "Total_Stops        1\n",
       "Additional_Info    0\n",
       "Price              0\n",
       "dtype: int64"
      ]
     },
     "execution_count": 7,
     "metadata": {},
     "output_type": "execute_result"
    }
   ],
   "source": [
    "data.isnull().sum()"
   ]
  },
  {
   "cell_type": "code",
   "execution_count": 8,
   "metadata": {},
   "outputs": [],
   "source": [
    "#Creating list of Category Columns\n",
    "\n",
    "category=['Airline','Source','Destination','Additional_Info']\n"
   ]
  },
  {
   "cell_type": "code",
   "execution_count": 9,
   "metadata": {},
   "outputs": [
    {
     "data": {
      "text/plain": [
       "['Airline', 'Source', 'Destination', 'Additional_Info']"
      ]
     },
     "execution_count": 9,
     "metadata": {},
     "output_type": "execute_result"
    }
   ],
   "source": [
    "category"
   ]
  },
  {
   "cell_type": "code",
   "execution_count": 10,
   "metadata": {},
   "outputs": [],
   "source": [
    "data.dropna(inplace=True)"
   ]
  },
  {
   "cell_type": "code",
   "execution_count": 11,
   "metadata": {},
   "outputs": [
    {
     "data": {
      "text/plain": [
       "Airline            0\n",
       "Date_of_Journey    0\n",
       "Source             0\n",
       "Destination        0\n",
       "Route              0\n",
       "Dep_Time           0\n",
       "Arrival_Time       0\n",
       "Duration           0\n",
       "Total_Stops        0\n",
       "Additional_Info    0\n",
       "Price              0\n",
       "dtype: int64"
      ]
     },
     "execution_count": 11,
     "metadata": {},
     "output_type": "execute_result"
    }
   ],
   "source": [
    "data.isnull().sum()"
   ]
  },
  {
   "cell_type": "code",
   "execution_count": null,
   "metadata": {},
   "outputs": [],
   "source": []
  },
  {
   "cell_type": "code",
   "execution_count": 12,
   "metadata": {},
   "outputs": [],
   "source": [
    "\n",
    "\n",
    "category_cols=data.select_dtypes(include=['object']).columns\n"
   ]
  },
  {
   "cell_type": "code",
   "execution_count": 13,
   "metadata": {},
   "outputs": [
    {
     "data": {
      "text/plain": [
       "Index(['Airline', 'Date_of_Journey', 'Source', 'Destination', 'Route',\n",
       "       'Dep_Time', 'Arrival_Time', 'Duration', 'Total_Stops',\n",
       "       'Additional_Info'],\n",
       "      dtype='object')"
      ]
     },
     "execution_count": 13,
     "metadata": {},
     "output_type": "execute_result"
    }
   ],
   "source": [
    "category_cols"
   ]
  },
  {
   "cell_type": "code",
   "execution_count": 14,
   "metadata": {},
   "outputs": [
    {
     "name": "stdout",
     "output_type": "stream",
     "text": [
      "Airline ['IndiGo' 'Air India' 'Jet Airways' 'SpiceJet' 'Multiple carriers' 'GoAir'\n",
      " 'Vistara' 'Air Asia' 'Vistara Premium economy' 'Jet Airways Business'\n",
      " 'Multiple carriers Premium economy' 'Trujet']\n",
      "Source ['Banglore' 'Kolkata' 'Delhi' 'Chennai' 'Mumbai']\n",
      "Destination ['New Delhi' 'Banglore' 'Cochin' 'Kolkata' 'Delhi' 'Hyderabad']\n",
      "Additional_Info ['No info' 'In-flight meal not included' 'No check-in baggage included'\n",
      " '1 Short layover' 'No Info' '1 Long layover' 'Change airports'\n",
      " 'Business class' 'Red-eye flight' '2 Long layover']\n"
     ]
    }
   ],
   "source": [
    "for i in category:\n",
    "    print(i, data[i].unique())"
   ]
  },
  {
   "cell_type": "code",
   "execution_count": 15,
   "metadata": {},
   "outputs": [
    {
     "data": {
      "image/png": "[encoded data removed]",
      "text/plain": [
       "<Figure size 1440x288 with 1 Axes>"
      ]
     },
     "metadata": {
      "needs_background": "light"
     },
     "output_type": "display_data"
    },
    {
     "data": {
      "image/png": "[encoded data removed]",
      "text/plain": [
       "<Figure size 1440x288 with 1 Axes>"
      ]
     },
     "metadata": {
      "needs_background": "light"
     },
     "output_type": "display_data"
    },
    {
     "data": {
      "image/png": "[encoded data removed]",
      "text/plain": [
       "<Figure size 1440x288 with 1 Axes>"
      ]
     },
     "metadata": {
      "needs_background": "light"
     },
     "output_type": "display_data"
    },
    {
     "data": {
      "image/png": "[encoded data removed]",
      "text/plain": [
       "<Figure size 1440x288 with 1 Axes>"
      ]
     },
     "metadata": {
      "needs_background": "light"
     },
     "output_type": "display_data"
    },
    {
     "data": {
      "image/png": "[encoded data removed]",
      "text/plain": [
       "<Figure size 1440x288 with 1 Axes>"
      ]
     },
     "metadata": {
      "needs_background": "light"
     },
     "output_type": "display_data"
    },
    {
     "data": {
      "image/png": "[encoded data removed]",
      "text/plain": [
       "<Figure size 1440x288 with 1 Axes>"
      ]
     },
     "metadata": {
      "needs_background": "light"
     },
     "output_type": "display_data"
    },
    {
     "data": {
      "image/png": "[encoded data removed]",
      "text/plain": [
       "<Figure size 1440x288 with 1 Axes>"
      ]
     },
     "metadata": {
      "needs_background": "light"
     },
     "output_type": "display_data"
    },
    {
     "data": {
      "image/png": "[encoded data removed]",
      "text/plain": [
       "<Figure size 1440x288 with 1 Axes>"
      ]
     },
     "metadata": {
      "needs_background": "light"
     },
     "output_type": "display_data"
    },
    {
     "data": {
      "image/png": "[encoded data removed]",
      "text/plain": [
       "<Figure size 1440x288 with 1 Axes>"
      ]
     },
     "metadata": {
      "needs_background": "light"
     },
     "output_type": "display_data"
    },
    {
     "data": {
      "image/png": "[encoded data removed]",
      "text/plain": [
       "<Figure size 1440x288 with 1 Axes>"
      ]
     },
     "metadata": {
      "needs_background": "light"
     },
     "output_type": "display_data"
    }
   ],
   "source": [
    "#plotting a barchart for each of the categorical value\n",
    "for column in category_cols:\n",
    "    plt.figure(figsize=(20,4))\n",
    "    plt.subplot(121)\n",
    "    data[column].value_counts().plot(kind='bar')\n",
    "    plt.title(column)"
   ]
  },
  {
   "cell_type": "code",
   "execution_count": 16,
   "metadata": {},
   "outputs": [
    {
     "data": {
      "text/plain": [
       "array(['non-stop', '2 stops', '1 stop', '3 stops', '4 stops'],\n",
       "      dtype=object)"
      ]
     },
     "execution_count": 16,
     "metadata": {},
     "output_type": "execute_result"
    }
   ],
   "source": [
    "data.Total_Stops.unique()"
   ]
  },
  {
   "cell_type": "code",
   "execution_count": 17,
   "metadata": {
    "scrolled": true
   },
   "outputs": [
    {
     "data": {
      "text/plain": [
       "0                      [BLR ,  DEL]\n",
       "1        [CCU ,  IXR ,  BBI ,  BLR]\n",
       "2        [DEL ,  LKO ,  BOM ,  COK]\n",
       "3               [CCU ,  NAG ,  BLR]\n",
       "4               [BLR ,  NAG ,  DEL]\n",
       "                    ...            \n",
       "10678                  [CCU ,  BLR]\n",
       "10679                  [CCU ,  BLR]\n",
       "10680                  [BLR ,  DEL]\n",
       "10681                  [BLR ,  DEL]\n",
       "10682    [DEL ,  GOI ,  BOM ,  COK]\n",
       "Name: Route, Length: 10682, dtype: object"
      ]
     },
     "execution_count": 17,
     "metadata": {},
     "output_type": "execute_result"
    }
   ],
   "source": [
    "#Since the maximum number of stops is 4, there should be maximum 6 cities in any particular route. We split the data in route column, and store all the city names in separate columns –\n",
    "\n",
    "data.Route=data.Route.str.split('→')\n",
    "data.Route"
   ]
  },
  {
   "cell_type": "code",
   "execution_count": 18,
   "metadata": {},
   "outputs": [],
   "source": [
    "data['City1']=data.Route.str[0]\n",
    "data['City2']=data.Route.str[1]\n",
    "data['City3']=data.Route.str[2]\n",
    "data['City4']=data.Route.str[3]\n",
    "data['City5']=data.Route.str[4]\n",
    "data['City6']=data.Route.str[5]"
   ]
  },
  {
   "cell_type": "code",
   "execution_count": 19,
   "metadata": {},
   "outputs": [],
   "source": [
    "#We now split the Date column to extract the ‘Date’, ‘Month’ and ‘Year’ values, and store them in new columns in our dataframe.\n",
    "\n",
    "data.Date_of_Journey=data.Date_of_Journey.str.split('/')"
   ]
  },
  {
   "cell_type": "code",
   "execution_count": 20,
   "metadata": {},
   "outputs": [
    {
     "data": {
      "text/plain": [
       "0        [24, 03, 2019]\n",
       "1         [1, 05, 2019]\n",
       "2         [9, 06, 2019]\n",
       "3        [12, 05, 2019]\n",
       "4        [01, 03, 2019]\n",
       "              ...      \n",
       "10678     [9, 04, 2019]\n",
       "10679    [27, 04, 2019]\n",
       "10680    [27, 04, 2019]\n",
       "10681    [01, 03, 2019]\n",
       "10682     [9, 05, 2019]\n",
       "Name: Date_of_Journey, Length: 10682, dtype: object"
      ]
     },
     "execution_count": 20,
     "metadata": {},
     "output_type": "execute_result"
    }
   ],
   "source": [
    "data.Date_of_Journey"
   ]
  },
  {
   "cell_type": "code",
   "execution_count": 21,
   "metadata": {},
   "outputs": [],
   "source": [
    "#Treating the data_column\n",
    "\n",
    "\n",
    "data['Date']=data.Date_of_Journey.str[0]\n",
    "data['Month']=data.Date_of_Journey.str[1]\n",
    "data['Year']=data.Date_of_Journey.str[2]"
   ]
  },
  {
   "cell_type": "code",
   "execution_count": 22,
   "metadata": {},
   "outputs": [],
   "source": [
    "#In the similar manner, we split the Dep_time column, and create separate columns for departure hours and minutes –\n",
    "data.Dep_Time=data.Dep_Time.str.split(':')"
   ]
  },
  {
   "cell_type": "code",
   "execution_count": 23,
   "metadata": {},
   "outputs": [],
   "source": [
    "data['Dep_Time_Hour']=data.Dep_Time.str[0]\n",
    "data['Dep_Time_Mins']=data.Dep_Time.str[1]"
   ]
  },
  {
   "cell_type": "markdown",
   "metadata": {},
   "source": [
    "Further, for the arrival date and arrival time separation, we split the ‘Arrival_Time’ column, and create ‘Arrival_date’ column. We also split the time and divide it into ‘Arrival_time_hours’ and ‘Arrival_time_minutes’, similar to what we did with the ‘Dep_time’ column –"
   ]
  },
  {
   "cell_type": "code",
   "execution_count": 24,
   "metadata": {},
   "outputs": [],
   "source": [
    "\n",
    "data.Arrival_Time=data.Arrival_Time.str.split(' ')\n"
   ]
  },
  {
   "cell_type": "code",
   "execution_count": 25,
   "metadata": {},
   "outputs": [],
   "source": [
    "data['Arrival_date']=data.Arrival_Time.str[1]\n",
    "data['Time_of_Arrival']=data.Arrival_Time.str[0]"
   ]
  },
  {
   "cell_type": "code",
   "execution_count": 26,
   "metadata": {},
   "outputs": [],
   "source": [
    "data['Time_of_Arrival']=data.Time_of_Arrival.str.split(':')\n"
   ]
  },
  {
   "cell_type": "code",
   "execution_count": 27,
   "metadata": {},
   "outputs": [],
   "source": [
    "data['Arrival_Time_Hour']=data.Time_of_Arrival.str[0]\n",
    "data['Arrival_Time_Mins']=data.Time_of_Arrival.str[1]"
   ]
  },
  {
   "cell_type": "code",
   "execution_count": 28,
   "metadata": {},
   "outputs": [],
   "source": [
    "#Next, we divide the ‘Duration’ column to ‘Travel_hours’ and ‘ Travel_mins’\n",
    "\n",
    "data.Duration=data.Duration.str.split(' ')"
   ]
  },
  {
   "cell_type": "code",
   "execution_count": 29,
   "metadata": {},
   "outputs": [],
   "source": [
    "data['Travel_Hours']=data.Duration.str[0]\n",
    "data['Travel_Hours']=data['Travel_Hours'].str.split('h')\n",
    "data['Travel_Hours']=data['Travel_Hours'].str[0]\n",
    "data.Travel_Hours=data.Travel_Hours\n",
    "data['Travel_Mins']=data.Duration.str[1]\n",
    "\n",
    "data.Travel_Mins=data.Travel_Mins.str.split('m')\n",
    "data.Travel_Mins=data.Travel_Mins.str[0]"
   ]
  },
  {
   "cell_type": "code",
   "execution_count": 30,
   "metadata": {},
   "outputs": [],
   "source": [
    "#We also treat the ‘Total_stops’ column, and replace non-stop flights with 0 value and extract the integer part of the ‘Total_Stops’ column –\n",
    "data.Total_Stops.replace('non_stop',0,inplace=True)\n",
    "data.Total_Stops=data.Total_Stops.str.split(' ')\n",
    "data.Total_Stops=data.Total_Stops.str[0]\n"
   ]
  },
  {
   "cell_type": "code",
   "execution_count": 31,
   "metadata": {},
   "outputs": [
    {
     "data": {
      "text/plain": [
       "array(['No info', 'In-flight meal not included',\n",
       "       'No check-in baggage included', '1 Short layover', 'No Info',\n",
       "       '1 Long layover', 'Change airports', 'Business class',\n",
       "       'Red-eye flight', '2 Long layover'], dtype=object)"
      ]
     },
     "execution_count": 31,
     "metadata": {},
     "output_type": "execute_result"
    }
   ],
   "source": [
    "data.Additional_Info.unique()"
   ]
  },
  {
   "cell_type": "code",
   "execution_count": 32,
   "metadata": {},
   "outputs": [],
   "source": [
    "data.Additional_Info.replace('No Info','No info',inplace=True)"
   ]
  },
  {
   "cell_type": "code",
   "execution_count": 33,
   "metadata": {},
   "outputs": [
    {
     "data": {
      "text/plain": [
       "Airline                  0\n",
       "Date_of_Journey          0\n",
       "Source                   0\n",
       "Destination              0\n",
       "Route                    0\n",
       "Dep_Time                 0\n",
       "Arrival_Time             0\n",
       "Duration                 0\n",
       "Total_Stops              0\n",
       "Additional_Info          0\n",
       "Price                    0\n",
       "City1                    0\n",
       "City2                    0\n",
       "City3                 3491\n",
       "City4                 9116\n",
       "City5                10636\n",
       "City6                10681\n",
       "Date                     0\n",
       "Month                    0\n",
       "Year                     0\n",
       "Dep_Time_Hour            0\n",
       "Dep_Time_Mins            0\n",
       "Arrival_date          6348\n",
       "Time_of_Arrival          0\n",
       "Arrival_Time_Hour        0\n",
       "Arrival_Time_Mins        0\n",
       "Travel_Hours             0\n",
       "Travel_Mins           1032\n",
       "dtype: int64"
      ]
     },
     "execution_count": 33,
     "metadata": {},
     "output_type": "execute_result"
    }
   ],
   "source": [
    "data.isnull().sum()"
   ]
  },
  {
   "cell_type": "code",
   "execution_count": 34,
   "metadata": {},
   "outputs": [],
   "source": [
    "#We also drop some columns like ‘city6’ and ‘city5’, since majority of the data in these columns was NaN(null)\n",
    "data.drop(['City4','City5','City6'],axis=1,inplace=True)"
   ]
  },
  {
   "cell_type": "code",
   "execution_count": 35,
   "metadata": {},
   "outputs": [],
   "source": [
    "data.drop(['Date_of_Journey','Route','Dep_Time','Arrival_Time','Duration'],axis=1, inplace=True)\n",
    "data.drop(['Time_of_Arrival'],axis=1,inplace=True)"
   ]
  },
  {
   "cell_type": "markdown",
   "metadata": {},
   "source": [
    "### Replacing The Missing Values"
   ]
  },
  {
   "cell_type": "code",
   "execution_count": 36,
   "metadata": {
    "scrolled": true
   },
   "outputs": [
    {
     "data": {
      "text/plain": [
       "Airline                 0\n",
       "Source                  0\n",
       "Destination             0\n",
       "Total_Stops             0\n",
       "Additional_Info         0\n",
       "Price                   0\n",
       "City1                   0\n",
       "City2                   0\n",
       "City3                3491\n",
       "Date                    0\n",
       "Month                   0\n",
       "Year                    0\n",
       "Dep_Time_Hour           0\n",
       "Dep_Time_Mins           0\n",
       "Arrival_date         6348\n",
       "Arrival_Time_Hour       0\n",
       "Arrival_Time_Mins       0\n",
       "Travel_Hours            0\n",
       "Travel_Mins          1032\n",
       "dtype: int64"
      ]
     },
     "execution_count": 36,
     "metadata": {},
     "output_type": "execute_result"
    }
   ],
   "source": [
    "#Checking Null Values\n",
    "data.isnull().sum()"
   ]
  },
  {
   "cell_type": "code",
   "execution_count": 37,
   "metadata": {},
   "outputs": [
    {
     "data": {
      "text/plain": [
       "Airline                 0\n",
       "Source                  0\n",
       "Destination             0\n",
       "Total_Stops             0\n",
       "Additional_Info         0\n",
       "Price                   0\n",
       "City1                   0\n",
       "City2                   0\n",
       "City3                3491\n",
       "Date                    0\n",
       "Month                   0\n",
       "Year                    0\n",
       "Dep_Time_Hour           0\n",
       "Dep_Time_Mins           0\n",
       "Arrival_date         6348\n",
       "Arrival_Time_Hour       0\n",
       "Arrival_Time_Mins       0\n",
       "Travel_Hours            0\n",
       "Travel_Mins          1032\n",
       "dtype: int64"
      ]
     },
     "execution_count": 37,
     "metadata": {},
     "output_type": "execute_result"
    }
   ],
   "source": [
    "data.isnull().sum()"
   ]
  },
  {
   "cell_type": "code",
   "execution_count": 38,
   "metadata": {},
   "outputs": [],
   "source": [
    "#filling City3 as None, the missing values are less\n",
    "data['City3'].fillna('None',inplace=True)"
   ]
  },
  {
   "cell_type": "code",
   "execution_count": 39,
   "metadata": {},
   "outputs": [],
   "source": [
    "#filling Arrival_Date as Departure_Date\n",
    "data['Arrival_date'].fillna(data['Date'],inplace=True)"
   ]
  },
  {
   "cell_type": "code",
   "execution_count": 40,
   "metadata": {},
   "outputs": [],
   "source": [
    "#filling Travel_Mins as Zero(0)\n",
    "data['Travel_Mins'].fillna(0,inplace=True)"
   ]
  },
  {
   "cell_type": "code",
   "execution_count": 41,
   "metadata": {},
   "outputs": [
    {
     "name": "stdout",
     "output_type": "stream",
     "text": [
      "<class 'pandas.core.frame.DataFrame'>\n",
      "Int64Index: 10682 entries, 0 to 10682\n",
      "Data columns (total 19 columns):\n",
      " #   Column             Non-Null Count  Dtype \n",
      "---  ------             --------------  ----- \n",
      " 0   Airline            10682 non-null  object\n",
      " 1   Source             10682 non-null  object\n",
      " 2   Destination        10682 non-null  object\n",
      " 3   Total_Stops        10682 non-null  object\n",
      " 4   Additional_Info    10682 non-null  object\n",
      " 5   Price              10682 non-null  int64 \n",
      " 6   City1              10682 non-null  object\n",
      " 7   City2              10682 non-null  object\n",
      " 8   City3              10682 non-null  object\n",
      " 9   Date               10682 non-null  object\n",
      " 10  Month              10682 non-null  object\n",
      " 11  Year               10682 non-null  object\n",
      " 12  Dep_Time_Hour      10682 non-null  object\n",
      " 13  Dep_Time_Mins      10682 non-null  object\n",
      " 14  Arrival_date       10682 non-null  object\n",
      " 15  Arrival_Time_Hour  10682 non-null  object\n",
      " 16  Arrival_Time_Mins  10682 non-null  object\n",
      " 17  Travel_Hours       10682 non-null  object\n",
      " 18  Travel_Mins        10682 non-null  object\n",
      "dtypes: int64(1), object(18)\n",
      "memory usage: 1.6+ MB\n"
     ]
    }
   ],
   "source": [
    "data.info()"
   ]
  },
  {
   "cell_type": "code",
   "execution_count": 42,
   "metadata": {},
   "outputs": [],
   "source": [
    "#changing the numerical columns from object to int\n",
    "#data.Total_Stops=data.Total_Stops.astype('int64')\n",
    "data.Date=data.Date.astype('int64')\n",
    "data.Month=data.Month.astype('int64')\n",
    "data.Year=data.Year.astype('int64')\n",
    "data.Dep_Time_Hour=data.Dep_Time_Hour.astype('int64')\n",
    "data.Dep_Time_Hour=data.Dep_Time_Hour.astype('int64')\n",
    "data.Dep_Time_Mins=data.Dep_Time_Mins.astype('int64')\n",
    "data.Arrival_date=data.Arrival_date.astype(\"int64\")\n",
    "data.Arrival_Time_Hour=data.Arrival_Time_Hour.astype('int64')\n",
    "data.Arrival_Time_Mins=data.Arrival_Time_Mins.astype('int64')\n",
    "#data.Travel_Hours=data.Travel_Hours.astype('int64')\n",
    "data.Travel_Mins=data.Travel_Mins.astype('int64')"
   ]
  },
  {
   "cell_type": "markdown",
   "metadata": {},
   "source": [
    "During this step, we face issue converting the ‘Travel_hours’ column, saying that the column has data as ‘5m’, which is not allowing its conversion to ‘int’."
   ]
  },
  {
   "cell_type": "code",
   "execution_count": 43,
   "metadata": {
    "scrolled": true
   },
   "outputs": [
    {
     "data": {
      "text/html": [
       "<div>\n",
       "<style scoped>\n",
       "    .dataframe tbody tr th:only-of-type {\n",
       "        vertical-align: middle;\n",
       "    }\n",
       "\n",
       "    .dataframe tbody tr th {\n",
       "        vertical-align: top;\n",
       "    }\n",
       "\n",
       "    .dataframe thead th {\n",
       "        text-align: right;\n",
       "    }\n",
       "</style>\n",
       "<table border=\"1\" class=\"dataframe\">\n",
       "  <thead>\n",
       "    <tr style=\"text-align: right;\">\n",
       "      <th></th>\n",
       "      <th>Airline</th>\n",
       "      <th>Source</th>\n",
       "      <th>Destination</th>\n",
       "      <th>Total_Stops</th>\n",
       "      <th>Additional_Info</th>\n",
       "      <th>Price</th>\n",
       "      <th>City1</th>\n",
       "      <th>City2</th>\n",
       "      <th>City3</th>\n",
       "      <th>Date</th>\n",
       "      <th>Month</th>\n",
       "      <th>Year</th>\n",
       "      <th>Dep_Time_Hour</th>\n",
       "      <th>Dep_Time_Mins</th>\n",
       "      <th>Arrival_date</th>\n",
       "      <th>Arrival_Time_Hour</th>\n",
       "      <th>Arrival_Time_Mins</th>\n",
       "      <th>Travel_Hours</th>\n",
       "      <th>Travel_Mins</th>\n",
       "    </tr>\n",
       "  </thead>\n",
       "  <tbody>\n",
       "    <tr>\n",
       "      <th>6474</th>\n",
       "      <td>Air India</td>\n",
       "      <td>Mumbai</td>\n",
       "      <td>Hyderabad</td>\n",
       "      <td>2</td>\n",
       "      <td>No info</td>\n",
       "      <td>17327</td>\n",
       "      <td>BOM</td>\n",
       "      <td>GOI</td>\n",
       "      <td>PNQ</td>\n",
       "      <td>6</td>\n",
       "      <td>3</td>\n",
       "      <td>2019</td>\n",
       "      <td>16</td>\n",
       "      <td>50</td>\n",
       "      <td>6</td>\n",
       "      <td>16</td>\n",
       "      <td>55</td>\n",
       "      <td>5m</td>\n",
       "      <td>0</td>\n",
       "    </tr>\n",
       "  </tbody>\n",
       "</table>\n",
       "</div>"
      ],
      "text/plain": [
       "        Airline  Source Destination Total_Stops Additional_Info  Price City1  \\\n",
       "6474  Air India  Mumbai   Hyderabad           2         No info  17327  BOM    \n",
       "\n",
       "      City2  City3  Date  Month  Year  Dep_Time_Hour  Dep_Time_Mins  \\\n",
       "6474   GOI    PNQ      6      3  2019             16             50   \n",
       "\n",
       "      Arrival_date  Arrival_Time_Hour  Arrival_Time_Mins Travel_Hours  \\\n",
       "6474             6                 16                 55           5m   \n",
       "\n",
       "      Travel_Mins  \n",
       "6474            0  "
      ]
     },
     "execution_count": 43,
     "metadata": {},
     "output_type": "execute_result"
    }
   ],
   "source": [
    "data[data['Travel_Hours']=='5m']"
   ]
  },
  {
   "cell_type": "markdown",
   "metadata": {},
   "source": [
    "The data signifies that the flight time is ‘5m’, which is obviously wrong as the plane cannot fly from BOMBAY->GOA->PUNE->HYDERABAD in 5 mins! (The flight has ‘Total_stops’ as 2)\n",
    "\n",
    "We then convert the ‘Travel_hours’ column to ‘int’ data type, and the operation happens successfully.\n",
    "\n",
    "We now have a treated dataset with 10682 rows and 16 columns (15 independent and 1 dependent variable).\n",
    "\n",
    "We create separate lists of categorical columns and numerical columns for plotting and analyzing the data –"
   ]
  },
  {
   "cell_type": "code",
   "execution_count": 44,
   "metadata": {},
   "outputs": [],
   "source": [
    "data.drop(index=6474,inplace=True,axis=0)"
   ]
  },
  {
   "cell_type": "code",
   "execution_count": 45,
   "metadata": {},
   "outputs": [],
   "source": [
    "data.Travel_Hours=data.Travel_Hours.astype('int64')"
   ]
  },
  {
   "cell_type": "code",
   "execution_count": 46,
   "metadata": {},
   "outputs": [],
   "source": [
    "#Creating list of Different types of columns\n",
    "categorical=['Airline','Source','Destination','Additional_Info','City1']\n",
    "numerical=['Total_Stops','Date','Month','Year','Dep_Time_Hour','Dep_Time_Mins','Arrival_date','Arrival_Time_Hour',\n",
    "           'Arrival_Time_Mins','Travel_Hours','Travel_Mins']"
   ]
  },
  {
   "cell_type": "code",
   "execution_count": 47,
   "metadata": {},
   "outputs": [
    {
     "name": "stderr",
     "output_type": "stream",
     "text": [
      "/opt/conda/envs/Python-3.9/lib/python3.9/site-packages/seaborn/_decorators.py:36: FutureWarning: Pass the following variable as a keyword arg: x. From version 0.12, the only valid positional argument will be `data`, and passing other arguments without an explicit keyword will result in an error or misinterpretation.\n",
      "  warnings.warn(\n",
      "/opt/conda/envs/Python-3.9/lib/python3.9/site-packages/seaborn/_decorators.py:36: FutureWarning: Pass the following variable as a keyword arg: x. From version 0.12, the only valid positional argument will be `data`, and passing other arguments without an explicit keyword will result in an error or misinterpretation.\n",
      "  warnings.warn(\n",
      "/opt/conda/envs/Python-3.9/lib/python3.9/site-packages/seaborn/_decorators.py:36: FutureWarning: Pass the following variable as a keyword arg: x. From version 0.12, the only valid positional argument will be `data`, and passing other arguments without an explicit keyword will result in an error or misinterpretation.\n",
      "  warnings.warn(\n",
      "/opt/conda/envs/Python-3.9/lib/python3.9/site-packages/seaborn/_decorators.py:36: FutureWarning: Pass the following variable as a keyword arg: x. From version 0.12, the only valid positional argument will be `data`, and passing other arguments without an explicit keyword will result in an error or misinterpretation.\n",
      "  warnings.warn(\n",
      "/opt/conda/envs/Python-3.9/lib/python3.9/site-packages/seaborn/_decorators.py:36: FutureWarning: Pass the following variable as a keyword arg: x. From version 0.12, the only valid positional argument will be `data`, and passing other arguments without an explicit keyword will result in an error or misinterpretation.\n",
      "  warnings.warn(\n"
     ]
    },
    {
     "data": {
      "image/png": "[encoded data removed]",
      "text/plain": [
       "<Figure size 1440x3240 with 5 Axes>"
      ]
     },
     "metadata": {
      "needs_background": "light"
     },
     "output_type": "display_data"
    }
   ],
   "source": [
    "#plotting Countplots for Categorical Data\n",
    "\n",
    "import seaborn as sns\n",
    "c=1\n",
    "plt.figure(figsize=(20,45))\n",
    "\n",
    "for i in categorical:\n",
    "    plt.subplot(6,3,c)\n",
    "    sns.countplot(data[i])\n",
    "    plt.xticks(rotation=90)\n",
    "    plt.tight_layout(pad=3.0)\n",
    "    c=c+1\n",
    "    \n",
    "plt.show()"
   ]
  },
  {
   "cell_type": "code",
   "execution_count": 48,
   "metadata": {},
   "outputs": [
    {
     "name": "stderr",
     "output_type": "stream",
     "text": [
      "/opt/conda/envs/Python-3.9/lib/python3.9/site-packages/seaborn/distributions.py:2619: FutureWarning: `distplot` is a deprecated function and will be removed in a future version. Please adapt your code to use either `displot` (a figure-level function with similar flexibility) or `histplot` (an axes-level function for histograms).\n",
      "  warnings.warn(msg, FutureWarning)\n"
     ]
    },
    {
     "data": {
      "text/plain": [
       "<AxesSubplot:xlabel='Price', ylabel='Density'>"
      ]
     },
     "execution_count": 48,
     "metadata": {},
     "output_type": "execute_result"
    },
    {
     "data": {
      "image/png": "[encoded data removed]",
      "text/plain": [
       "<Figure size 1080x576 with 1 Axes>"
      ]
     },
     "metadata": {
      "needs_background": "light"
     },
     "output_type": "display_data"
    }
   ],
   "source": [
    "#Distribution of 'PRICE' Column\n",
    "plt.figure(figsize=(15,8))\n",
    "sns.distplot(data.Price)\n"
   ]
  },
  {
   "cell_type": "markdown",
   "metadata": {},
   "source": [
    "Majority of the flights have price range between 1759–20k, and number of flights having prices greater than 20k are quite less. Price range is skewed towards right.\n",
    "\n",
    "We will now compare the independent features with ‘Price’ column, to check the impact on ‘Price’."
   ]
  },
  {
   "cell_type": "code",
   "execution_count": 49,
   "metadata": {
    "scrolled": true
   },
   "outputs": [
    {
     "data": {
      "text/plain": [
       "Index(['Airline', 'Source', 'Destination', 'Total_Stops', 'Additional_Info',\n",
       "       'Price', 'City1', 'City2', 'City3', 'Date', 'Month', 'Year',\n",
       "       'Dep_Time_Hour', 'Dep_Time_Mins', 'Arrival_date', 'Arrival_Time_Hour',\n",
       "       'Arrival_Time_Mins', 'Travel_Hours', 'Travel_Mins'],\n",
       "      dtype='object')"
      ]
     },
     "execution_count": 49,
     "metadata": {},
     "output_type": "execute_result"
    }
   ],
   "source": [
    "data.columns"
   ]
  },
  {
   "cell_type": "code",
   "execution_count": 50,
   "metadata": {
    "scrolled": true
   },
   "outputs": [
    {
     "data": {
      "image/png": "[encoded data removed]",
      "text/plain": [
       "<Figure size 720x1440 with 1 Axes>"
      ]
     },
     "metadata": {
      "needs_background": "light"
     },
     "output_type": "display_data"
    },
    {
     "data": {
      "image/png": "[encoded data removed]",
      "text/plain": [
       "<Figure size 720x1440 with 1 Axes>"
      ]
     },
     "metadata": {
      "needs_background": "light"
     },
     "output_type": "display_data"
    },
    {
     "data": {
      "image/png": "[encoded data removed]",
      "text/plain": [
       "<Figure size 720x1440 with 1 Axes>"
      ]
     },
     "metadata": {
      "needs_background": "light"
     },
     "output_type": "display_data"
    },
    {
     "data": {
      "image/png": "[encoded data removed]",
      "text/plain": [
       "<Figure size 720x1440 with 1 Axes>"
      ]
     },
     "metadata": {
      "needs_background": "light"
     },
     "output_type": "display_data"
    },
    {
     "data": {
      "image/png": "[encoded data removed]",
      "text/plain": [
       "<Figure size 720x1440 with 1 Axes>"
      ]
     },
     "metadata": {
      "needs_background": "light"
     },
     "output_type": "display_data"
    }
   ],
   "source": [
    "#Checking the relation of Price with Categorical data\n",
    "\n",
    "import seaborn as sns\n",
    "c=1\n",
    "\n",
    "for i in categorical:\n",
    "    plt.figure(figsize = (10,20))\n",
    "\n",
    "    plt.subplot(6,3,c)\n",
    "    \n",
    "    sns.scatterplot(x=data[i],y=data.Price)\n",
    "    plt.xticks(rotation=90)\n",
    "    #plt.tight_layout(pad=3.0)\n",
    "    c=c+1\n",
    "    plt.show()\n",
    "    "
   ]
  },
  {
   "cell_type": "code",
   "execution_count": 51,
   "metadata": {
    "scrolled": true
   },
   "outputs": [
    {
     "data": {
      "text/html": [
       "<div>\n",
       "<style scoped>\n",
       "    .dataframe tbody tr th:only-of-type {\n",
       "        vertical-align: middle;\n",
       "    }\n",
       "\n",
       "    .dataframe tbody tr th {\n",
       "        vertical-align: top;\n",
       "    }\n",
       "\n",
       "    .dataframe thead th {\n",
       "        text-align: right;\n",
       "    }\n",
       "</style>\n",
       "<table border=\"1\" class=\"dataframe\">\n",
       "  <thead>\n",
       "    <tr style=\"text-align: right;\">\n",
       "      <th></th>\n",
       "      <th>Airline</th>\n",
       "      <th>Source</th>\n",
       "      <th>Destination</th>\n",
       "      <th>Total_Stops</th>\n",
       "      <th>Additional_Info</th>\n",
       "      <th>Price</th>\n",
       "      <th>City1</th>\n",
       "      <th>City2</th>\n",
       "      <th>City3</th>\n",
       "      <th>Date</th>\n",
       "      <th>Month</th>\n",
       "      <th>Year</th>\n",
       "      <th>Dep_Time_Hour</th>\n",
       "      <th>Dep_Time_Mins</th>\n",
       "      <th>Arrival_date</th>\n",
       "      <th>Arrival_Time_Hour</th>\n",
       "      <th>Arrival_Time_Mins</th>\n",
       "      <th>Travel_Hours</th>\n",
       "      <th>Travel_Mins</th>\n",
       "    </tr>\n",
       "  </thead>\n",
       "  <tbody>\n",
       "    <tr>\n",
       "      <th>0</th>\n",
       "      <td>IndiGo</td>\n",
       "      <td>Banglore</td>\n",
       "      <td>New Delhi</td>\n",
       "      <td>non-stop</td>\n",
       "      <td>No info</td>\n",
       "      <td>3897</td>\n",
       "      <td>BLR</td>\n",
       "      <td>DEL</td>\n",
       "      <td>None</td>\n",
       "      <td>24</td>\n",
       "      <td>3</td>\n",
       "      <td>2019</td>\n",
       "      <td>22</td>\n",
       "      <td>20</td>\n",
       "      <td>22</td>\n",
       "      <td>1</td>\n",
       "      <td>10</td>\n",
       "      <td>2</td>\n",
       "      <td>50</td>\n",
       "    </tr>\n",
       "    <tr>\n",
       "      <th>1</th>\n",
       "      <td>Air India</td>\n",
       "      <td>Kolkata</td>\n",
       "      <td>Banglore</td>\n",
       "      <td>2</td>\n",
       "      <td>No info</td>\n",
       "      <td>7662</td>\n",
       "      <td>CCU</td>\n",
       "      <td>IXR</td>\n",
       "      <td>BBI</td>\n",
       "      <td>1</td>\n",
       "      <td>5</td>\n",
       "      <td>2019</td>\n",
       "      <td>5</td>\n",
       "      <td>50</td>\n",
       "      <td>1</td>\n",
       "      <td>13</td>\n",
       "      <td>15</td>\n",
       "      <td>7</td>\n",
       "      <td>25</td>\n",
       "    </tr>\n",
       "    <tr>\n",
       "      <th>2</th>\n",
       "      <td>Jet Airways</td>\n",
       "      <td>Delhi</td>\n",
       "      <td>Cochin</td>\n",
       "      <td>2</td>\n",
       "      <td>No info</td>\n",
       "      <td>13882</td>\n",
       "      <td>DEL</td>\n",
       "      <td>LKO</td>\n",
       "      <td>BOM</td>\n",
       "      <td>9</td>\n",
       "      <td>6</td>\n",
       "      <td>2019</td>\n",
       "      <td>9</td>\n",
       "      <td>25</td>\n",
       "      <td>10</td>\n",
       "      <td>4</td>\n",
       "      <td>25</td>\n",
       "      <td>19</td>\n",
       "      <td>0</td>\n",
       "    </tr>\n",
       "    <tr>\n",
       "      <th>3</th>\n",
       "      <td>IndiGo</td>\n",
       "      <td>Kolkata</td>\n",
       "      <td>Banglore</td>\n",
       "      <td>1</td>\n",
       "      <td>No info</td>\n",
       "      <td>6218</td>\n",
       "      <td>CCU</td>\n",
       "      <td>NAG</td>\n",
       "      <td>BLR</td>\n",
       "      <td>12</td>\n",
       "      <td>5</td>\n",
       "      <td>2019</td>\n",
       "      <td>18</td>\n",
       "      <td>5</td>\n",
       "      <td>12</td>\n",
       "      <td>23</td>\n",
       "      <td>30</td>\n",
       "      <td>5</td>\n",
       "      <td>25</td>\n",
       "    </tr>\n",
       "    <tr>\n",
       "      <th>4</th>\n",
       "      <td>IndiGo</td>\n",
       "      <td>Banglore</td>\n",
       "      <td>New Delhi</td>\n",
       "      <td>1</td>\n",
       "      <td>No info</td>\n",
       "      <td>13302</td>\n",
       "      <td>BLR</td>\n",
       "      <td>NAG</td>\n",
       "      <td>DEL</td>\n",
       "      <td>1</td>\n",
       "      <td>3</td>\n",
       "      <td>2019</td>\n",
       "      <td>16</td>\n",
       "      <td>50</td>\n",
       "      <td>1</td>\n",
       "      <td>21</td>\n",
       "      <td>35</td>\n",
       "      <td>4</td>\n",
       "      <td>45</td>\n",
       "    </tr>\n",
       "  </tbody>\n",
       "</table>\n",
       "</div>"
      ],
      "text/plain": [
       "       Airline    Source Destination Total_Stops Additional_Info  Price City1  \\\n",
       "0       IndiGo  Banglore   New Delhi    non-stop         No info   3897  BLR    \n",
       "1    Air India   Kolkata    Banglore           2         No info   7662  CCU    \n",
       "2  Jet Airways     Delhi      Cochin           2         No info  13882  DEL    \n",
       "3       IndiGo   Kolkata    Banglore           1         No info   6218  CCU    \n",
       "4       IndiGo  Banglore   New Delhi           1         No info  13302  BLR    \n",
       "\n",
       "   City2  City3  Date  Month  Year  Dep_Time_Hour  Dep_Time_Mins  \\\n",
       "0    DEL   None    24      3  2019             22             20   \n",
       "1   IXR    BBI      1      5  2019              5             50   \n",
       "2   LKO    BOM      9      6  2019              9             25   \n",
       "3   NAG     BLR    12      5  2019             18              5   \n",
       "4   NAG     DEL     1      3  2019             16             50   \n",
       "\n",
       "   Arrival_date  Arrival_Time_Hour  Arrival_Time_Mins  Travel_Hours  \\\n",
       "0            22                  1                 10             2   \n",
       "1             1                 13                 15             7   \n",
       "2            10                  4                 25            19   \n",
       "3            12                 23                 30             5   \n",
       "4             1                 21                 35             4   \n",
       "\n",
       "   Travel_Mins  \n",
       "0           50  \n",
       "1           25  \n",
       "2            0  \n",
       "3           25  \n",
       "4           45  "
      ]
     },
     "execution_count": 51,
     "metadata": {},
     "output_type": "execute_result"
    }
   ],
   "source": [
    "#Checking Flight with high Prices\n",
    "data[data.Price>50000]\n",
    "data.head()\n",
    "pd.set_option('display.max_columns',25)\n",
    "data.head()"
   ]
  },
  {
   "cell_type": "code",
   "execution_count": 52,
   "metadata": {},
   "outputs": [
    {
     "data": {
      "text/plain": [
       "2019"
      ]
     },
     "execution_count": 52,
     "metadata": {},
     "output_type": "execute_result"
    }
   ],
   "source": [
    "data['Year'].max()"
   ]
  },
  {
   "cell_type": "code",
   "execution_count": 53,
   "metadata": {},
   "outputs": [
    {
     "data": {
      "text/plain": [
       "<AxesSubplot:>"
      ]
     },
     "execution_count": 53,
     "metadata": {},
     "output_type": "execute_result"
    },
    {
     "data": {
      "image/png": "[encoded data removed]",
      "text/plain": [
       "<Figure size 432x288 with 2 Axes>"
      ]
     },
     "metadata": {
      "needs_background": "light"
     },
     "output_type": "display_data"
    }
   ],
   "source": [
    "sns.heatmap(data.corr(),annot=True)"
   ]
  },
  {
   "cell_type": "code",
   "execution_count": 54,
   "metadata": {},
   "outputs": [
    {
     "name": "stdout",
     "output_type": "stream",
     "text": [
      "<class 'pandas.core.frame.DataFrame'>\n",
      "Int64Index: 10681 entries, 0 to 10682\n",
      "Data columns (total 19 columns):\n",
      " #   Column             Non-Null Count  Dtype \n",
      "---  ------             --------------  ----- \n",
      " 0   Airline            10681 non-null  object\n",
      " 1   Source             10681 non-null  object\n",
      " 2   Destination        10681 non-null  object\n",
      " 3   Total_Stops        10681 non-null  object\n",
      " 4   Additional_Info    10681 non-null  object\n",
      " 5   Price              10681 non-null  int64 \n",
      " 6   City1              10681 non-null  object\n",
      " 7   City2              10681 non-null  object\n",
      " 8   City3              10681 non-null  object\n",
      " 9   Date               10681 non-null  int64 \n",
      " 10  Month              10681 non-null  int64 \n",
      " 11  Year               10681 non-null  int64 \n",
      " 12  Dep_Time_Hour      10681 non-null  int64 \n",
      " 13  Dep_Time_Mins      10681 non-null  int64 \n",
      " 14  Arrival_date       10681 non-null  int64 \n",
      " 15  Arrival_Time_Hour  10681 non-null  int64 \n",
      " 16  Arrival_Time_Mins  10681 non-null  int64 \n",
      " 17  Travel_Hours       10681 non-null  int64 \n",
      " 18  Travel_Mins        10681 non-null  int64 \n",
      "dtypes: int64(11), object(8)\n",
      "memory usage: 1.9+ MB\n"
     ]
    }
   ],
   "source": [
    "data.info()"
   ]
  },
  {
   "cell_type": "code",
   "execution_count": 55,
   "metadata": {},
   "outputs": [
    {
     "data": {
      "text/html": [
       "<div>\n",
       "<style scoped>\n",
       "    .dataframe tbody tr th:only-of-type {\n",
       "        vertical-align: middle;\n",
       "    }\n",
       "\n",
       "    .dataframe tbody tr th {\n",
       "        vertical-align: top;\n",
       "    }\n",
       "\n",
       "    .dataframe thead th {\n",
       "        text-align: right;\n",
       "    }\n",
       "</style>\n",
       "<table border=\"1\" class=\"dataframe\">\n",
       "  <thead>\n",
       "    <tr style=\"text-align: right;\">\n",
       "      <th></th>\n",
       "      <th>Airline</th>\n",
       "      <th>Source</th>\n",
       "      <th>Destination</th>\n",
       "      <th>Total_Stops</th>\n",
       "      <th>Additional_Info</th>\n",
       "      <th>Price</th>\n",
       "      <th>City1</th>\n",
       "      <th>City2</th>\n",
       "      <th>City3</th>\n",
       "      <th>Date</th>\n",
       "      <th>Month</th>\n",
       "      <th>Year</th>\n",
       "      <th>Dep_Time_Hour</th>\n",
       "      <th>Dep_Time_Mins</th>\n",
       "      <th>Arrival_date</th>\n",
       "      <th>Arrival_Time_Hour</th>\n",
       "      <th>Arrival_Time_Mins</th>\n",
       "      <th>Travel_Hours</th>\n",
       "      <th>Travel_Mins</th>\n",
       "    </tr>\n",
       "  </thead>\n",
       "  <tbody>\n",
       "    <tr>\n",
       "      <th>0</th>\n",
       "      <td>IndiGo</td>\n",
       "      <td>Banglore</td>\n",
       "      <td>New Delhi</td>\n",
       "      <td>non-stop</td>\n",
       "      <td>No info</td>\n",
       "      <td>3897</td>\n",
       "      <td>BLR</td>\n",
       "      <td>DEL</td>\n",
       "      <td>None</td>\n",
       "      <td>24</td>\n",
       "      <td>3</td>\n",
       "      <td>2019</td>\n",
       "      <td>22</td>\n",
       "      <td>20</td>\n",
       "      <td>22</td>\n",
       "      <td>1</td>\n",
       "      <td>10</td>\n",
       "      <td>2</td>\n",
       "      <td>50</td>\n",
       "    </tr>\n",
       "    <tr>\n",
       "      <th>1</th>\n",
       "      <td>Air India</td>\n",
       "      <td>Kolkata</td>\n",
       "      <td>Banglore</td>\n",
       "      <td>2</td>\n",
       "      <td>No info</td>\n",
       "      <td>7662</td>\n",
       "      <td>CCU</td>\n",
       "      <td>IXR</td>\n",
       "      <td>BBI</td>\n",
       "      <td>1</td>\n",
       "      <td>5</td>\n",
       "      <td>2019</td>\n",
       "      <td>5</td>\n",
       "      <td>50</td>\n",
       "      <td>1</td>\n",
       "      <td>13</td>\n",
       "      <td>15</td>\n",
       "      <td>7</td>\n",
       "      <td>25</td>\n",
       "    </tr>\n",
       "    <tr>\n",
       "      <th>2</th>\n",
       "      <td>Jet Airways</td>\n",
       "      <td>Delhi</td>\n",
       "      <td>Cochin</td>\n",
       "      <td>2</td>\n",
       "      <td>No info</td>\n",
       "      <td>13882</td>\n",
       "      <td>DEL</td>\n",
       "      <td>LKO</td>\n",
       "      <td>BOM</td>\n",
       "      <td>9</td>\n",
       "      <td>6</td>\n",
       "      <td>2019</td>\n",
       "      <td>9</td>\n",
       "      <td>25</td>\n",
       "      <td>10</td>\n",
       "      <td>4</td>\n",
       "      <td>25</td>\n",
       "      <td>19</td>\n",
       "      <td>0</td>\n",
       "    </tr>\n",
       "    <tr>\n",
       "      <th>3</th>\n",
       "      <td>IndiGo</td>\n",
       "      <td>Kolkata</td>\n",
       "      <td>Banglore</td>\n",
       "      <td>1</td>\n",
       "      <td>No info</td>\n",
       "      <td>6218</td>\n",
       "      <td>CCU</td>\n",
       "      <td>NAG</td>\n",
       "      <td>BLR</td>\n",
       "      <td>12</td>\n",
       "      <td>5</td>\n",
       "      <td>2019</td>\n",
       "      <td>18</td>\n",
       "      <td>5</td>\n",
       "      <td>12</td>\n",
       "      <td>23</td>\n",
       "      <td>30</td>\n",
       "      <td>5</td>\n",
       "      <td>25</td>\n",
       "    </tr>\n",
       "    <tr>\n",
       "      <th>4</th>\n",
       "      <td>IndiGo</td>\n",
       "      <td>Banglore</td>\n",
       "      <td>New Delhi</td>\n",
       "      <td>1</td>\n",
       "      <td>No info</td>\n",
       "      <td>13302</td>\n",
       "      <td>BLR</td>\n",
       "      <td>NAG</td>\n",
       "      <td>DEL</td>\n",
       "      <td>1</td>\n",
       "      <td>3</td>\n",
       "      <td>2019</td>\n",
       "      <td>16</td>\n",
       "      <td>50</td>\n",
       "      <td>1</td>\n",
       "      <td>21</td>\n",
       "      <td>35</td>\n",
       "      <td>4</td>\n",
       "      <td>45</td>\n",
       "    </tr>\n",
       "    <tr>\n",
       "      <th>...</th>\n",
       "      <td>...</td>\n",
       "      <td>...</td>\n",
       "      <td>...</td>\n",
       "      <td>...</td>\n",
       "      <td>...</td>\n",
       "      <td>...</td>\n",
       "      <td>...</td>\n",
       "      <td>...</td>\n",
       "      <td>...</td>\n",
       "      <td>...</td>\n",
       "      <td>...</td>\n",
       "      <td>...</td>\n",
       "      <td>...</td>\n",
       "      <td>...</td>\n",
       "      <td>...</td>\n",
       "      <td>...</td>\n",
       "      <td>...</td>\n",
       "      <td>...</td>\n",
       "      <td>...</td>\n",
       "    </tr>\n",
       "    <tr>\n",
       "      <th>10678</th>\n",
       "      <td>Air Asia</td>\n",
       "      <td>Kolkata</td>\n",
       "      <td>Banglore</td>\n",
       "      <td>non-stop</td>\n",
       "      <td>No info</td>\n",
       "      <td>4107</td>\n",
       "      <td>CCU</td>\n",
       "      <td>BLR</td>\n",
       "      <td>None</td>\n",
       "      <td>9</td>\n",
       "      <td>4</td>\n",
       "      <td>2019</td>\n",
       "      <td>19</td>\n",
       "      <td>55</td>\n",
       "      <td>9</td>\n",
       "      <td>22</td>\n",
       "      <td>25</td>\n",
       "      <td>2</td>\n",
       "      <td>30</td>\n",
       "    </tr>\n",
       "    <tr>\n",
       "      <th>10679</th>\n",
       "      <td>Air India</td>\n",
       "      <td>Kolkata</td>\n",
       "      <td>Banglore</td>\n",
       "      <td>non-stop</td>\n",
       "      <td>No info</td>\n",
       "      <td>4145</td>\n",
       "      <td>CCU</td>\n",
       "      <td>BLR</td>\n",
       "      <td>None</td>\n",
       "      <td>27</td>\n",
       "      <td>4</td>\n",
       "      <td>2019</td>\n",
       "      <td>20</td>\n",
       "      <td>45</td>\n",
       "      <td>27</td>\n",
       "      <td>23</td>\n",
       "      <td>20</td>\n",
       "      <td>2</td>\n",
       "      <td>35</td>\n",
       "    </tr>\n",
       "    <tr>\n",
       "      <th>10680</th>\n",
       "      <td>Jet Airways</td>\n",
       "      <td>Banglore</td>\n",
       "      <td>Delhi</td>\n",
       "      <td>non-stop</td>\n",
       "      <td>No info</td>\n",
       "      <td>7229</td>\n",
       "      <td>BLR</td>\n",
       "      <td>DEL</td>\n",
       "      <td>None</td>\n",
       "      <td>27</td>\n",
       "      <td>4</td>\n",
       "      <td>2019</td>\n",
       "      <td>8</td>\n",
       "      <td>20</td>\n",
       "      <td>27</td>\n",
       "      <td>11</td>\n",
       "      <td>20</td>\n",
       "      <td>3</td>\n",
       "      <td>0</td>\n",
       "    </tr>\n",
       "    <tr>\n",
       "      <th>10681</th>\n",
       "      <td>Vistara</td>\n",
       "      <td>Banglore</td>\n",
       "      <td>New Delhi</td>\n",
       "      <td>non-stop</td>\n",
       "      <td>No info</td>\n",
       "      <td>12648</td>\n",
       "      <td>BLR</td>\n",
       "      <td>DEL</td>\n",
       "      <td>None</td>\n",
       "      <td>1</td>\n",
       "      <td>3</td>\n",
       "      <td>2019</td>\n",
       "      <td>11</td>\n",
       "      <td>30</td>\n",
       "      <td>1</td>\n",
       "      <td>14</td>\n",
       "      <td>10</td>\n",
       "      <td>2</td>\n",
       "      <td>40</td>\n",
       "    </tr>\n",
       "    <tr>\n",
       "      <th>10682</th>\n",
       "      <td>Air India</td>\n",
       "      <td>Delhi</td>\n",
       "      <td>Cochin</td>\n",
       "      <td>2</td>\n",
       "      <td>No info</td>\n",
       "      <td>11753</td>\n",
       "      <td>DEL</td>\n",
       "      <td>GOI</td>\n",
       "      <td>BOM</td>\n",
       "      <td>9</td>\n",
       "      <td>5</td>\n",
       "      <td>2019</td>\n",
       "      <td>10</td>\n",
       "      <td>55</td>\n",
       "      <td>9</td>\n",
       "      <td>19</td>\n",
       "      <td>15</td>\n",
       "      <td>8</td>\n",
       "      <td>20</td>\n",
       "    </tr>\n",
       "  </tbody>\n",
       "</table>\n",
       "<p>10681 rows × 19 columns</p>\n",
       "</div>"
      ],
      "text/plain": [
       "           Airline    Source Destination Total_Stops Additional_Info  Price  \\\n",
       "0           IndiGo  Banglore   New Delhi    non-stop         No info   3897   \n",
       "1        Air India   Kolkata    Banglore           2         No info   7662   \n",
       "2      Jet Airways     Delhi      Cochin           2         No info  13882   \n",
       "3           IndiGo   Kolkata    Banglore           1         No info   6218   \n",
       "4           IndiGo  Banglore   New Delhi           1         No info  13302   \n",
       "...            ...       ...         ...         ...             ...    ...   \n",
       "10678     Air Asia   Kolkata    Banglore    non-stop         No info   4107   \n",
       "10679    Air India   Kolkata    Banglore    non-stop         No info   4145   \n",
       "10680  Jet Airways  Banglore       Delhi    non-stop         No info   7229   \n",
       "10681      Vistara  Banglore   New Delhi    non-stop         No info  12648   \n",
       "10682    Air India     Delhi      Cochin           2         No info  11753   \n",
       "\n",
       "      City1  City2  City3  Date  Month  Year  Dep_Time_Hour  Dep_Time_Mins  \\\n",
       "0      BLR     DEL   None    24      3  2019             22             20   \n",
       "1      CCU    IXR    BBI      1      5  2019              5             50   \n",
       "2      DEL    LKO    BOM      9      6  2019              9             25   \n",
       "3      CCU    NAG     BLR    12      5  2019             18              5   \n",
       "4      BLR    NAG     DEL     1      3  2019             16             50   \n",
       "...     ...    ...    ...   ...    ...   ...            ...            ...   \n",
       "10678  CCU     BLR   None     9      4  2019             19             55   \n",
       "10679  CCU     BLR   None    27      4  2019             20             45   \n",
       "10680  BLR     DEL   None    27      4  2019              8             20   \n",
       "10681  BLR     DEL   None     1      3  2019             11             30   \n",
       "10682  DEL    GOI    BOM      9      5  2019             10             55   \n",
       "\n",
       "       Arrival_date  Arrival_Time_Hour  Arrival_Time_Mins  Travel_Hours  \\\n",
       "0                22                  1                 10             2   \n",
       "1                 1                 13                 15             7   \n",
       "2                10                  4                 25            19   \n",
       "3                12                 23                 30             5   \n",
       "4                 1                 21                 35             4   \n",
       "...             ...                ...                ...           ...   \n",
       "10678             9                 22                 25             2   \n",
       "10679            27                 23                 20             2   \n",
       "10680            27                 11                 20             3   \n",
       "10681             1                 14                 10             2   \n",
       "10682             9                 19                 15             8   \n",
       "\n",
       "       Travel_Mins  \n",
       "0               50  \n",
       "1               25  \n",
       "2                0  \n",
       "3               25  \n",
       "4               45  \n",
       "...            ...  \n",
       "10678           30  \n",
       "10679           35  \n",
       "10680            0  \n",
       "10681           40  \n",
       "10682           20  \n",
       "\n",
       "[10681 rows x 19 columns]"
      ]
     },
     "execution_count": 55,
     "metadata": {},
     "output_type": "execute_result"
    }
   ],
   "source": [
    "data"
   ]
  },
  {
   "cell_type": "code",
   "execution_count": 56,
   "metadata": {
    "scrolled": false
   },
   "outputs": [
    {
     "data": {
      "image/png": "[encoded data removed]",
      "text/plain": [
       "<Figure size 720x1440 with 1 Axes>"
      ]
     },
     "metadata": {
      "needs_background": "light"
     },
     "output_type": "display_data"
    },
    {
     "data": {
      "image/png": "[encoded data removed]",
      "text/plain": [
       "<Figure size 720x1440 with 1 Axes>"
      ]
     },
     "metadata": {
      "needs_background": "light"
     },
     "output_type": "display_data"
    },
    {
     "data": {
      "image/png": "[encoded data removed]",
      "text/plain": [
       "<Figure size 720x1440 with 1 Axes>"
      ]
     },
     "metadata": {
      "needs_background": "light"
     },
     "output_type": "display_data"
    },
    {
     "data": {
      "image/png": "[encoded data removed]",
      "text/plain": [
       "<Figure size 720x1440 with 1 Axes>"
      ]
     },
     "metadata": {
      "needs_background": "light"
     },
     "output_type": "display_data"
    },
    {
     "data": {
      "image/png": "[encoded data removed]",
      "text/plain": [
       "<Figure size 720x1440 with 1 Axes>"
      ]
     },
     "metadata": {
      "needs_background": "light"
     },
     "output_type": "display_data"
    },
    {
     "data": {
      "image/png": "[encoded data removed]",
      "text/plain": [
       "<Figure size 720x1440 with 1 Axes>"
      ]
     },
     "metadata": {
      "needs_background": "light"
     },
     "output_type": "display_data"
    },
    {
     "data": {
      "image/png": "[encoded data removed]",
      "text/plain": [
       "<Figure size 720x1440 with 1 Axes>"
      ]
     },
     "metadata": {
      "needs_background": "light"
     },
     "output_type": "display_data"
    },
    {
     "data": {
      "image/png": "[encoded data removed]",
      "text/plain": [
       "<Figure size 720x1440 with 1 Axes>"
      ]
     },
     "metadata": {
      "needs_background": "light"
     },
     "output_type": "display_data"
    },
    {
     "data": {
      "image/png": "[encoded data removed]",
      "text/plain": [
       "<Figure size 720x1440 with 1 Axes>"
      ]
     },
     "metadata": {
      "needs_background": "light"
     },
     "output_type": "display_data"
    },
    {
     "data": {
      "image/png": "[encoded data removed]",
      "text/plain": [
       "<Figure size 720x1440 with 1 Axes>"
      ]
     },
     "metadata": {
      "needs_background": "light"
     },
     "output_type": "display_data"
    },
    {
     "data": {
      "image/png": "[encoded data removed]",
      "text/plain": [
       "<Figure size 720x1440 with 1 Axes>"
      ]
     },
     "metadata": {
      "needs_background": "light"
     },
     "output_type": "display_data"
    }
   ],
   "source": [
    "#Checking Relation Price with Numerical values\n",
    "c=1\n",
    "\n",
    "for i in numerical:\n",
    "    plt.figure(figsize=(10,20))\n",
    "    plt.subplot(6,3,c)\n",
    "    sns.scatterplot(x = data[i], y=data.Price)\n",
    "    plt.xticks(rotation=90)\n",
    "    #plt.tight_layout(pad=3.0)\n",
    "    c=c+1\n",
    "    plt.show()"
   ]
  },
  {
   "cell_type": "code",
   "execution_count": 57,
   "metadata": {},
   "outputs": [
    {
     "name": "stderr",
     "output_type": "stream",
     "text": [
      "/opt/conda/envs/Python-3.9/lib/python3.9/site-packages/seaborn/_decorators.py:36: FutureWarning: Pass the following variable as a keyword arg: x. From version 0.12, the only valid positional argument will be `data`, and passing other arguments without an explicit keyword will result in an error or misinterpretation.\n",
      "  warnings.warn(\n"
     ]
    },
    {
     "data": {
      "text/plain": [
       "<AxesSubplot:xlabel='Price'>"
      ]
     },
     "execution_count": 57,
     "metadata": {},
     "output_type": "execute_result"
    },
    {
     "data": {
      "image/png": "[encoded data removed]",
      "text/plain": [
       "<Figure size 432x288 with 1 Axes>"
      ]
     },
     "metadata": {
      "needs_background": "light"
     },
     "output_type": "display_data"
    }
   ],
   "source": [
    "# Detecting the Outliers\n",
    "import seaborn as sns\n",
    "sns.boxplot(data['Price'])\n",
    "    "
   ]
  },
  {
   "cell_type": "markdown",
   "metadata": {},
   "source": [
    "### Label Encoding"
   ]
  },
  {
   "cell_type": "code",
   "execution_count": 58,
   "metadata": {},
   "outputs": [],
   "source": [
    "from sklearn.preprocessing import LabelEncoder\n",
    "le=LabelEncoder()"
   ]
  },
  {
   "cell_type": "code",
   "execution_count": 59,
   "metadata": {
    "scrolled": true
   },
   "outputs": [
    {
     "data": {
      "text/html": [
       "<div>\n",
       "<style scoped>\n",
       "    .dataframe tbody tr th:only-of-type {\n",
       "        vertical-align: middle;\n",
       "    }\n",
       "\n",
       "    .dataframe tbody tr th {\n",
       "        vertical-align: top;\n",
       "    }\n",
       "\n",
       "    .dataframe thead th {\n",
       "        text-align: right;\n",
       "    }\n",
       "</style>\n",
       "<table border=\"1\" class=\"dataframe\">\n",
       "  <thead>\n",
       "    <tr style=\"text-align: right;\">\n",
       "      <th></th>\n",
       "      <th>Airline</th>\n",
       "      <th>Source</th>\n",
       "      <th>Destination</th>\n",
       "      <th>Total_Stops</th>\n",
       "      <th>Additional_Info</th>\n",
       "      <th>Price</th>\n",
       "      <th>City1</th>\n",
       "      <th>City2</th>\n",
       "      <th>City3</th>\n",
       "      <th>Date</th>\n",
       "      <th>Month</th>\n",
       "      <th>Year</th>\n",
       "      <th>Dep_Time_Hour</th>\n",
       "      <th>Dep_Time_Mins</th>\n",
       "      <th>Arrival_date</th>\n",
       "      <th>Arrival_Time_Hour</th>\n",
       "      <th>Arrival_Time_Mins</th>\n",
       "      <th>Travel_Hours</th>\n",
       "      <th>Travel_Mins</th>\n",
       "    </tr>\n",
       "  </thead>\n",
       "  <tbody>\n",
       "    <tr>\n",
       "      <th>0</th>\n",
       "      <td>3</td>\n",
       "      <td>0</td>\n",
       "      <td>5</td>\n",
       "      <td>4</td>\n",
       "      <td>7</td>\n",
       "      <td>3897</td>\n",
       "      <td>0</td>\n",
       "      <td>13</td>\n",
       "      <td>29</td>\n",
       "      <td>24</td>\n",
       "      <td>3</td>\n",
       "      <td>2019</td>\n",
       "      <td>22</td>\n",
       "      <td>20</td>\n",
       "      <td>22</td>\n",
       "      <td>1</td>\n",
       "      <td>10</td>\n",
       "      <td>2</td>\n",
       "      <td>50</td>\n",
       "    </tr>\n",
       "    <tr>\n",
       "      <th>1</th>\n",
       "      <td>1</td>\n",
       "      <td>3</td>\n",
       "      <td>0</td>\n",
       "      <td>1</td>\n",
       "      <td>7</td>\n",
       "      <td>7662</td>\n",
       "      <td>2</td>\n",
       "      <td>25</td>\n",
       "      <td>1</td>\n",
       "      <td>1</td>\n",
       "      <td>5</td>\n",
       "      <td>2019</td>\n",
       "      <td>5</td>\n",
       "      <td>50</td>\n",
       "      <td>1</td>\n",
       "      <td>13</td>\n",
       "      <td>15</td>\n",
       "      <td>7</td>\n",
       "      <td>25</td>\n",
       "    </tr>\n",
       "    <tr>\n",
       "      <th>2</th>\n",
       "      <td>4</td>\n",
       "      <td>2</td>\n",
       "      <td>1</td>\n",
       "      <td>1</td>\n",
       "      <td>7</td>\n",
       "      <td>13882</td>\n",
       "      <td>3</td>\n",
       "      <td>32</td>\n",
       "      <td>4</td>\n",
       "      <td>9</td>\n",
       "      <td>6</td>\n",
       "      <td>2019</td>\n",
       "      <td>9</td>\n",
       "      <td>25</td>\n",
       "      <td>10</td>\n",
       "      <td>4</td>\n",
       "      <td>25</td>\n",
       "      <td>19</td>\n",
       "      <td>0</td>\n",
       "    </tr>\n",
       "    <tr>\n",
       "      <th>3</th>\n",
       "      <td>3</td>\n",
       "      <td>3</td>\n",
       "      <td>0</td>\n",
       "      <td>0</td>\n",
       "      <td>7</td>\n",
       "      <td>6218</td>\n",
       "      <td>2</td>\n",
       "      <td>34</td>\n",
       "      <td>3</td>\n",
       "      <td>12</td>\n",
       "      <td>5</td>\n",
       "      <td>2019</td>\n",
       "      <td>18</td>\n",
       "      <td>5</td>\n",
       "      <td>12</td>\n",
       "      <td>23</td>\n",
       "      <td>30</td>\n",
       "      <td>5</td>\n",
       "      <td>25</td>\n",
       "    </tr>\n",
       "    <tr>\n",
       "      <th>4</th>\n",
       "      <td>3</td>\n",
       "      <td>0</td>\n",
       "      <td>5</td>\n",
       "      <td>0</td>\n",
       "      <td>7</td>\n",
       "      <td>13302</td>\n",
       "      <td>0</td>\n",
       "      <td>34</td>\n",
       "      <td>8</td>\n",
       "      <td>1</td>\n",
       "      <td>3</td>\n",
       "      <td>2019</td>\n",
       "      <td>16</td>\n",
       "      <td>50</td>\n",
       "      <td>1</td>\n",
       "      <td>21</td>\n",
       "      <td>35</td>\n",
       "      <td>4</td>\n",
       "      <td>45</td>\n",
       "    </tr>\n",
       "  </tbody>\n",
       "</table>\n",
       "</div>"
      ],
      "text/plain": [
       "   Airline  Source  Destination  Total_Stops  Additional_Info  Price  City1  \\\n",
       "0        3       0            5            4                7   3897      0   \n",
       "1        1       3            0            1                7   7662      2   \n",
       "2        4       2            1            1                7  13882      3   \n",
       "3        3       3            0            0                7   6218      2   \n",
       "4        3       0            5            0                7  13302      0   \n",
       "\n",
       "   City2  City3  Date  Month  Year  Dep_Time_Hour  Dep_Time_Mins  \\\n",
       "0     13     29    24      3  2019             22             20   \n",
       "1     25      1     1      5  2019              5             50   \n",
       "2     32      4     9      6  2019              9             25   \n",
       "3     34      3    12      5  2019             18              5   \n",
       "4     34      8     1      3  2019             16             50   \n",
       "\n",
       "   Arrival_date  Arrival_Time_Hour  Arrival_Time_Mins  Travel_Hours  \\\n",
       "0            22                  1                 10             2   \n",
       "1             1                 13                 15             7   \n",
       "2            10                  4                 25            19   \n",
       "3            12                 23                 30             5   \n",
       "4             1                 21                 35             4   \n",
       "\n",
       "   Travel_Mins  \n",
       "0           50  \n",
       "1           25  \n",
       "2            0  \n",
       "3           25  \n",
       "4           45  "
      ]
     },
     "execution_count": 59,
     "metadata": {},
     "output_type": "execute_result"
    }
   ],
   "source": [
    "data.Airline=le.fit_transform(data.Airline)\n",
    "data.Source=le.fit_transform(data.Source)\n",
    "data.Destination=le.fit_transform(data.Destination)\n",
    "data.Total_Stops=le.fit_transform(data.Total_Stops)\n",
    "data.City1\t=le.fit_transform(data.City1\t)\n",
    "data.City2=le.fit_transform(data.City2)\n",
    "data.City3=le.fit_transform(data.City3)\n",
    "data.Additional_Info=le.fit_transform(data.Additional_Info)\n",
    "data.head()"
   ]
  },
  {
   "cell_type": "markdown",
   "metadata": {},
   "source": [
    "### Scaling the Data"
   ]
  },
  {
   "cell_type": "code",
   "execution_count": 60,
   "metadata": {},
   "outputs": [],
   "source": [
    "from sklearn.preprocessing import StandardScaler\n",
    "ss=StandardScaler()\n",
    "\n",
    "ds_x=data.drop('Price',axis=1)\n",
    "y=data['Price']\n"
   ]
  },
  {
   "cell_type": "code",
   "execution_count": 61,
   "metadata": {},
   "outputs": [],
   "source": [
    "x=pd.DataFrame(ss.fit_transform(ds_x),columns=ds_x.columns)\n"
   ]
  },
  {
   "cell_type": "code",
   "execution_count": 62,
   "metadata": {},
   "outputs": [
    {
     "data": {
      "text/html": [
       "<div>\n",
       "<style scoped>\n",
       "    .dataframe tbody tr th:only-of-type {\n",
       "        vertical-align: middle;\n",
       "    }\n",
       "\n",
       "    .dataframe tbody tr th {\n",
       "        vertical-align: top;\n",
       "    }\n",
       "\n",
       "    .dataframe thead th {\n",
       "        text-align: right;\n",
       "    }\n",
       "</style>\n",
       "<table border=\"1\" class=\"dataframe\">\n",
       "  <thead>\n",
       "    <tr style=\"text-align: right;\">\n",
       "      <th></th>\n",
       "      <th>Airline</th>\n",
       "      <th>Source</th>\n",
       "      <th>Destination</th>\n",
       "      <th>Total_Stops</th>\n",
       "      <th>Additional_Info</th>\n",
       "      <th>City1</th>\n",
       "      <th>City2</th>\n",
       "      <th>City3</th>\n",
       "      <th>Date</th>\n",
       "      <th>Month</th>\n",
       "      <th>Year</th>\n",
       "      <th>Dep_Time_Hour</th>\n",
       "      <th>Dep_Time_Mins</th>\n",
       "      <th>Arrival_date</th>\n",
       "      <th>Arrival_Time_Hour</th>\n",
       "      <th>Arrival_Time_Mins</th>\n",
       "      <th>Travel_Hours</th>\n",
       "      <th>Travel_Mins</th>\n",
       "    </tr>\n",
       "  </thead>\n",
       "  <tbody>\n",
       "    <tr>\n",
       "      <th>0</th>\n",
       "      <td>-0.410934</td>\n",
       "      <td>-1.658354</td>\n",
       "      <td>2.416648</td>\n",
       "      <td>1.407125</td>\n",
       "      <td>0.498678</td>\n",
       "      <td>-1.674246</td>\n",
       "      <td>0.137694</td>\n",
       "      <td>1.395207</td>\n",
       "      <td>1.237192</td>\n",
       "      <td>-1.467619</td>\n",
       "      <td>0.0</td>\n",
       "      <td>1.654162</td>\n",
       "      <td>-0.234832</td>\n",
       "      <td>0.955658</td>\n",
       "      <td>-1.800328</td>\n",
       "      <td>-0.889941</td>\n",
       "      <td>-0.970748</td>\n",
       "      <td>1.278965</td>\n",
       "    </tr>\n",
       "    <tr>\n",
       "      <th>1</th>\n",
       "      <td>-1.261305</td>\n",
       "      <td>0.890262</td>\n",
       "      <td>-0.973718</td>\n",
       "      <td>-0.253716</td>\n",
       "      <td>0.498678</td>\n",
       "      <td>-0.016145</td>\n",
       "      <td>1.636509</td>\n",
       "      <td>-1.082197</td>\n",
       "      <td>-1.475375</td>\n",
       "      <td>0.250165</td>\n",
       "      <td>0.0</td>\n",
       "      <td>-1.303018</td>\n",
       "      <td>1.363790</td>\n",
       "      <td>-1.524701</td>\n",
       "      <td>-0.050871</td>\n",
       "      <td>-0.586988</td>\n",
       "      <td>-0.382120</td>\n",
       "      <td>-0.196456</td>\n",
       "    </tr>\n",
       "    <tr>\n",
       "      <th>2</th>\n",
       "      <td>0.014251</td>\n",
       "      <td>0.040723</td>\n",
       "      <td>-0.295645</td>\n",
       "      <td>-0.253716</td>\n",
       "      <td>0.498678</td>\n",
       "      <td>0.812906</td>\n",
       "      <td>2.510817</td>\n",
       "      <td>-0.816761</td>\n",
       "      <td>-0.531874</td>\n",
       "      <td>1.109057</td>\n",
       "      <td>0.0</td>\n",
       "      <td>-0.607211</td>\n",
       "      <td>0.031605</td>\n",
       "      <td>-0.461690</td>\n",
       "      <td>-1.362964</td>\n",
       "      <td>0.018919</td>\n",
       "      <td>1.030586</td>\n",
       "      <td>-1.671877</td>\n",
       "    </tr>\n",
       "    <tr>\n",
       "      <th>3</th>\n",
       "      <td>-0.410934</td>\n",
       "      <td>0.890262</td>\n",
       "      <td>-0.973718</td>\n",
       "      <td>-0.807329</td>\n",
       "      <td>0.498678</td>\n",
       "      <td>-0.016145</td>\n",
       "      <td>2.760619</td>\n",
       "      <td>-0.905240</td>\n",
       "      <td>-0.178060</td>\n",
       "      <td>0.250165</td>\n",
       "      <td>0.0</td>\n",
       "      <td>0.958355</td>\n",
       "      <td>-1.034142</td>\n",
       "      <td>-0.225465</td>\n",
       "      <td>1.407010</td>\n",
       "      <td>0.321872</td>\n",
       "      <td>-0.617571</td>\n",
       "      <td>-0.196456</td>\n",
       "    </tr>\n",
       "    <tr>\n",
       "      <th>4</th>\n",
       "      <td>-0.410934</td>\n",
       "      <td>-1.658354</td>\n",
       "      <td>2.416648</td>\n",
       "      <td>-0.807329</td>\n",
       "      <td>0.498678</td>\n",
       "      <td>-1.674246</td>\n",
       "      <td>2.760619</td>\n",
       "      <td>-0.462846</td>\n",
       "      <td>-1.475375</td>\n",
       "      <td>-1.467619</td>\n",
       "      <td>0.0</td>\n",
       "      <td>0.610452</td>\n",
       "      <td>1.363790</td>\n",
       "      <td>-1.524701</td>\n",
       "      <td>1.115434</td>\n",
       "      <td>0.624825</td>\n",
       "      <td>-0.735297</td>\n",
       "      <td>0.983881</td>\n",
       "    </tr>\n",
       "    <tr>\n",
       "      <th>...</th>\n",
       "      <td>...</td>\n",
       "      <td>...</td>\n",
       "      <td>...</td>\n",
       "      <td>...</td>\n",
       "      <td>...</td>\n",
       "      <td>...</td>\n",
       "      <td>...</td>\n",
       "      <td>...</td>\n",
       "      <td>...</td>\n",
       "      <td>...</td>\n",
       "      <td>...</td>\n",
       "      <td>...</td>\n",
       "      <td>...</td>\n",
       "      <td>...</td>\n",
       "      <td>...</td>\n",
       "      <td>...</td>\n",
       "      <td>...</td>\n",
       "      <td>...</td>\n",
       "    </tr>\n",
       "    <tr>\n",
       "      <th>10676</th>\n",
       "      <td>-1.686491</td>\n",
       "      <td>0.890262</td>\n",
       "      <td>-0.973718</td>\n",
       "      <td>1.407125</td>\n",
       "      <td>0.498678</td>\n",
       "      <td>-0.016145</td>\n",
       "      <td>-0.861515</td>\n",
       "      <td>1.395207</td>\n",
       "      <td>-0.531874</td>\n",
       "      <td>-0.608727</td>\n",
       "      <td>0.0</td>\n",
       "      <td>1.132307</td>\n",
       "      <td>1.630227</td>\n",
       "      <td>-0.579802</td>\n",
       "      <td>1.261222</td>\n",
       "      <td>0.018919</td>\n",
       "      <td>-0.970748</td>\n",
       "      <td>0.098628</td>\n",
       "    </tr>\n",
       "    <tr>\n",
       "      <th>10677</th>\n",
       "      <td>-1.261305</td>\n",
       "      <td>0.890262</td>\n",
       "      <td>-0.973718</td>\n",
       "      <td>1.407125</td>\n",
       "      <td>0.498678</td>\n",
       "      <td>-0.016145</td>\n",
       "      <td>-0.861515</td>\n",
       "      <td>1.395207</td>\n",
       "      <td>1.591005</td>\n",
       "      <td>-0.608727</td>\n",
       "      <td>0.0</td>\n",
       "      <td>1.306259</td>\n",
       "      <td>1.097353</td>\n",
       "      <td>1.546220</td>\n",
       "      <td>1.407010</td>\n",
       "      <td>-0.284035</td>\n",
       "      <td>-0.970748</td>\n",
       "      <td>0.393713</td>\n",
       "    </tr>\n",
       "    <tr>\n",
       "      <th>10678</th>\n",
       "      <td>0.014251</td>\n",
       "      <td>-1.658354</td>\n",
       "      <td>0.382428</td>\n",
       "      <td>1.407125</td>\n",
       "      <td>0.498678</td>\n",
       "      <td>-1.674246</td>\n",
       "      <td>0.137694</td>\n",
       "      <td>1.395207</td>\n",
       "      <td>1.591005</td>\n",
       "      <td>-0.608727</td>\n",
       "      <td>0.0</td>\n",
       "      <td>-0.781163</td>\n",
       "      <td>-0.234832</td>\n",
       "      <td>1.546220</td>\n",
       "      <td>-0.342447</td>\n",
       "      <td>-0.284035</td>\n",
       "      <td>-0.853022</td>\n",
       "      <td>-1.671877</td>\n",
       "    </tr>\n",
       "    <tr>\n",
       "      <th>10679</th>\n",
       "      <td>2.565364</td>\n",
       "      <td>-1.658354</td>\n",
       "      <td>2.416648</td>\n",
       "      <td>1.407125</td>\n",
       "      <td>0.498678</td>\n",
       "      <td>-1.674246</td>\n",
       "      <td>0.137694</td>\n",
       "      <td>1.395207</td>\n",
       "      <td>-1.475375</td>\n",
       "      <td>-1.467619</td>\n",
       "      <td>0.0</td>\n",
       "      <td>-0.259307</td>\n",
       "      <td>0.298042</td>\n",
       "      <td>-1.524701</td>\n",
       "      <td>0.094917</td>\n",
       "      <td>-0.889941</td>\n",
       "      <td>-0.970748</td>\n",
       "      <td>0.688797</td>\n",
       "    </tr>\n",
       "    <tr>\n",
       "      <th>10680</th>\n",
       "      <td>-1.261305</td>\n",
       "      <td>0.040723</td>\n",
       "      <td>-0.295645</td>\n",
       "      <td>-0.253716</td>\n",
       "      <td>0.498678</td>\n",
       "      <td>0.812906</td>\n",
       "      <td>0.512398</td>\n",
       "      <td>-0.816761</td>\n",
       "      <td>-0.531874</td>\n",
       "      <td>0.250165</td>\n",
       "      <td>0.0</td>\n",
       "      <td>-0.433259</td>\n",
       "      <td>1.630227</td>\n",
       "      <td>-0.579802</td>\n",
       "      <td>0.823858</td>\n",
       "      <td>-0.586988</td>\n",
       "      <td>-0.264395</td>\n",
       "      <td>-0.491540</td>\n",
       "    </tr>\n",
       "  </tbody>\n",
       "</table>\n",
       "<p>10681 rows × 18 columns</p>\n",
       "</div>"
      ],
      "text/plain": [
       "        Airline    Source  Destination  Total_Stops  Additional_Info  \\\n",
       "0     -0.410934 -1.658354     2.416648     1.407125         0.498678   \n",
       "1     -1.261305  0.890262    -0.973718    -0.253716         0.498678   \n",
       "2      0.014251  0.040723    -0.295645    -0.253716         0.498678   \n",
       "3     -0.410934  0.890262    -0.973718    -0.807329         0.498678   \n",
       "4     -0.410934 -1.658354     2.416648    -0.807329         0.498678   \n",
       "...         ...       ...          ...          ...              ...   \n",
       "10676 -1.686491  0.890262    -0.973718     1.407125         0.498678   \n",
       "10677 -1.261305  0.890262    -0.973718     1.407125         0.498678   \n",
       "10678  0.014251 -1.658354     0.382428     1.407125         0.498678   \n",
       "10679  2.565364 -1.658354     2.416648     1.407125         0.498678   \n",
       "10680 -1.261305  0.040723    -0.295645    -0.253716         0.498678   \n",
       "\n",
       "          City1     City2     City3      Date     Month  Year  Dep_Time_Hour  \\\n",
       "0     -1.674246  0.137694  1.395207  1.237192 -1.467619   0.0       1.654162   \n",
       "1     -0.016145  1.636509 -1.082197 -1.475375  0.250165   0.0      -1.303018   \n",
       "2      0.812906  2.510817 -0.816761 -0.531874  1.109057   0.0      -0.607211   \n",
       "3     -0.016145  2.760619 -0.905240 -0.178060  0.250165   0.0       0.958355   \n",
       "4     -1.674246  2.760619 -0.462846 -1.475375 -1.467619   0.0       0.610452   \n",
       "...         ...       ...       ...       ...       ...   ...            ...   \n",
       "10676 -0.016145 -0.861515  1.395207 -0.531874 -0.608727   0.0       1.132307   \n",
       "10677 -0.016145 -0.861515  1.395207  1.591005 -0.608727   0.0       1.306259   \n",
       "10678 -1.674246  0.137694  1.395207  1.591005 -0.608727   0.0      -0.781163   \n",
       "10679 -1.674246  0.137694  1.395207 -1.475375 -1.467619   0.0      -0.259307   \n",
       "10680  0.812906  0.512398 -0.816761 -0.531874  0.250165   0.0      -0.433259   \n",
       "\n",
       "       Dep_Time_Mins  Arrival_date  Arrival_Time_Hour  Arrival_Time_Mins  \\\n",
       "0          -0.234832      0.955658          -1.800328          -0.889941   \n",
       "1           1.363790     -1.524701          -0.050871          -0.586988   \n",
       "2           0.031605     -0.461690          -1.362964           0.018919   \n",
       "3          -1.034142     -0.225465           1.407010           0.321872   \n",
       "4           1.363790     -1.524701           1.115434           0.624825   \n",
       "...              ...           ...                ...                ...   \n",
       "10676       1.630227     -0.579802           1.261222           0.018919   \n",
       "10677       1.097353      1.546220           1.407010          -0.284035   \n",
       "10678      -0.234832      1.546220          -0.342447          -0.284035   \n",
       "10679       0.298042     -1.524701           0.094917          -0.889941   \n",
       "10680       1.630227     -0.579802           0.823858          -0.586988   \n",
       "\n",
       "       Travel_Hours  Travel_Mins  \n",
       "0         -0.970748     1.278965  \n",
       "1         -0.382120    -0.196456  \n",
       "2          1.030586    -1.671877  \n",
       "3         -0.617571    -0.196456  \n",
       "4         -0.735297     0.983881  \n",
       "...             ...          ...  \n",
       "10676     -0.970748     0.098628  \n",
       "10677     -0.970748     0.393713  \n",
       "10678     -0.853022    -1.671877  \n",
       "10679     -0.970748     0.688797  \n",
       "10680     -0.264395    -0.491540  \n",
       "\n",
       "[10681 rows x 18 columns]"
      ]
     },
     "execution_count": 62,
     "metadata": {},
     "output_type": "execute_result"
    }
   ],
   "source": [
    "x"
   ]
  },
  {
   "cell_type": "markdown",
   "metadata": {},
   "source": [
    "We use the below mentioned code snipped to fit the data into ML models and predict the output –"
   ]
  },
  {
   "cell_type": "markdown",
   "metadata": {},
   "source": [
    "### Output  Columns"
   ]
  },
  {
   "cell_type": "code",
   "execution_count": 63,
   "metadata": {},
   "outputs": [
    {
     "data": {
      "text/html": [
       "<div>\n",
       "<style scoped>\n",
       "    .dataframe tbody tr th:only-of-type {\n",
       "        vertical-align: middle;\n",
       "    }\n",
       "\n",
       "    .dataframe tbody tr th {\n",
       "        vertical-align: top;\n",
       "    }\n",
       "\n",
       "    .dataframe thead th {\n",
       "        text-align: right;\n",
       "    }\n",
       "</style>\n",
       "<table border=\"1\" class=\"dataframe\">\n",
       "  <thead>\n",
       "    <tr style=\"text-align: right;\">\n",
       "      <th></th>\n",
       "      <th>Airline</th>\n",
       "      <th>Source</th>\n",
       "      <th>Destination</th>\n",
       "      <th>Total_Stops</th>\n",
       "      <th>Additional_Info</th>\n",
       "      <th>Price</th>\n",
       "      <th>City1</th>\n",
       "      <th>City2</th>\n",
       "      <th>City3</th>\n",
       "      <th>Date</th>\n",
       "      <th>Month</th>\n",
       "      <th>Year</th>\n",
       "      <th>Dep_Time_Hour</th>\n",
       "      <th>Dep_Time_Mins</th>\n",
       "      <th>Arrival_date</th>\n",
       "      <th>Arrival_Time_Hour</th>\n",
       "      <th>Arrival_Time_Mins</th>\n",
       "      <th>Travel_Hours</th>\n",
       "      <th>Travel_Mins</th>\n",
       "    </tr>\n",
       "  </thead>\n",
       "  <tbody>\n",
       "    <tr>\n",
       "      <th>0</th>\n",
       "      <td>3</td>\n",
       "      <td>0</td>\n",
       "      <td>5</td>\n",
       "      <td>4</td>\n",
       "      <td>7</td>\n",
       "      <td>3897</td>\n",
       "      <td>0</td>\n",
       "      <td>13</td>\n",
       "      <td>29</td>\n",
       "      <td>24</td>\n",
       "      <td>3</td>\n",
       "      <td>2019</td>\n",
       "      <td>22</td>\n",
       "      <td>20</td>\n",
       "      <td>22</td>\n",
       "      <td>1</td>\n",
       "      <td>10</td>\n",
       "      <td>2</td>\n",
       "      <td>50</td>\n",
       "    </tr>\n",
       "    <tr>\n",
       "      <th>1</th>\n",
       "      <td>1</td>\n",
       "      <td>3</td>\n",
       "      <td>0</td>\n",
       "      <td>1</td>\n",
       "      <td>7</td>\n",
       "      <td>7662</td>\n",
       "      <td>2</td>\n",
       "      <td>25</td>\n",
       "      <td>1</td>\n",
       "      <td>1</td>\n",
       "      <td>5</td>\n",
       "      <td>2019</td>\n",
       "      <td>5</td>\n",
       "      <td>50</td>\n",
       "      <td>1</td>\n",
       "      <td>13</td>\n",
       "      <td>15</td>\n",
       "      <td>7</td>\n",
       "      <td>25</td>\n",
       "    </tr>\n",
       "    <tr>\n",
       "      <th>2</th>\n",
       "      <td>4</td>\n",
       "      <td>2</td>\n",
       "      <td>1</td>\n",
       "      <td>1</td>\n",
       "      <td>7</td>\n",
       "      <td>13882</td>\n",
       "      <td>3</td>\n",
       "      <td>32</td>\n",
       "      <td>4</td>\n",
       "      <td>9</td>\n",
       "      <td>6</td>\n",
       "      <td>2019</td>\n",
       "      <td>9</td>\n",
       "      <td>25</td>\n",
       "      <td>10</td>\n",
       "      <td>4</td>\n",
       "      <td>25</td>\n",
       "      <td>19</td>\n",
       "      <td>0</td>\n",
       "    </tr>\n",
       "    <tr>\n",
       "      <th>3</th>\n",
       "      <td>3</td>\n",
       "      <td>3</td>\n",
       "      <td>0</td>\n",
       "      <td>0</td>\n",
       "      <td>7</td>\n",
       "      <td>6218</td>\n",
       "      <td>2</td>\n",
       "      <td>34</td>\n",
       "      <td>3</td>\n",
       "      <td>12</td>\n",
       "      <td>5</td>\n",
       "      <td>2019</td>\n",
       "      <td>18</td>\n",
       "      <td>5</td>\n",
       "      <td>12</td>\n",
       "      <td>23</td>\n",
       "      <td>30</td>\n",
       "      <td>5</td>\n",
       "      <td>25</td>\n",
       "    </tr>\n",
       "    <tr>\n",
       "      <th>4</th>\n",
       "      <td>3</td>\n",
       "      <td>0</td>\n",
       "      <td>5</td>\n",
       "      <td>0</td>\n",
       "      <td>7</td>\n",
       "      <td>13302</td>\n",
       "      <td>0</td>\n",
       "      <td>34</td>\n",
       "      <td>8</td>\n",
       "      <td>1</td>\n",
       "      <td>3</td>\n",
       "      <td>2019</td>\n",
       "      <td>16</td>\n",
       "      <td>50</td>\n",
       "      <td>1</td>\n",
       "      <td>21</td>\n",
       "      <td>35</td>\n",
       "      <td>4</td>\n",
       "      <td>45</td>\n",
       "    </tr>\n",
       "  </tbody>\n",
       "</table>\n",
       "</div>"
      ],
      "text/plain": [
       "   Airline  Source  Destination  Total_Stops  Additional_Info  Price  City1  \\\n",
       "0        3       0            5            4                7   3897      0   \n",
       "1        1       3            0            1                7   7662      2   \n",
       "2        4       2            1            1                7  13882      3   \n",
       "3        3       3            0            0                7   6218      2   \n",
       "4        3       0            5            0                7  13302      0   \n",
       "\n",
       "   City2  City3  Date  Month  Year  Dep_Time_Hour  Dep_Time_Mins  \\\n",
       "0     13     29    24      3  2019             22             20   \n",
       "1     25      1     1      5  2019              5             50   \n",
       "2     32      4     9      6  2019              9             25   \n",
       "3     34      3    12      5  2019             18              5   \n",
       "4     34      8     1      3  2019             16             50   \n",
       "\n",
       "   Arrival_date  Arrival_Time_Hour  Arrival_Time_Mins  Travel_Hours  \\\n",
       "0            22                  1                 10             2   \n",
       "1             1                 13                 15             7   \n",
       "2            10                  4                 25            19   \n",
       "3            12                 23                 30             5   \n",
       "4             1                 21                 35             4   \n",
       "\n",
       "   Travel_Mins  \n",
       "0           50  \n",
       "1           25  \n",
       "2            0  \n",
       "3           25  \n",
       "4           45  "
      ]
     },
     "execution_count": 63,
     "metadata": {},
     "output_type": "execute_result"
    }
   ],
   "source": [
    "data.head()"
   ]
  },
  {
   "cell_type": "code",
   "execution_count": 64,
   "metadata": {
    "scrolled": false
   },
   "outputs": [
    {
     "data": {
      "text/html": [
       "<div>\n",
       "<style scoped>\n",
       "    .dataframe tbody tr th:only-of-type {\n",
       "        vertical-align: middle;\n",
       "    }\n",
       "\n",
       "    .dataframe tbody tr th {\n",
       "        vertical-align: top;\n",
       "    }\n",
       "\n",
       "    .dataframe thead th {\n",
       "        text-align: right;\n",
       "    }\n",
       "</style>\n",
       "<table border=\"1\" class=\"dataframe\">\n",
       "  <thead>\n",
       "    <tr style=\"text-align: right;\">\n",
       "      <th></th>\n",
       "      <th>Airline</th>\n",
       "      <th>Source</th>\n",
       "      <th>Destination</th>\n",
       "      <th>Date</th>\n",
       "      <th>Month</th>\n",
       "      <th>Year</th>\n",
       "      <th>Dep_Time_Hour</th>\n",
       "      <th>Dep_Time_Mins</th>\n",
       "      <th>Arrival_date</th>\n",
       "      <th>Arrival_Time_Hour</th>\n",
       "      <th>Arrival_Time_Mins</th>\n",
       "      <th>Price</th>\n",
       "    </tr>\n",
       "  </thead>\n",
       "  <tbody>\n",
       "    <tr>\n",
       "      <th>0</th>\n",
       "      <td>3</td>\n",
       "      <td>0</td>\n",
       "      <td>5</td>\n",
       "      <td>24</td>\n",
       "      <td>3</td>\n",
       "      <td>2019</td>\n",
       "      <td>22</td>\n",
       "      <td>20</td>\n",
       "      <td>22</td>\n",
       "      <td>1</td>\n",
       "      <td>10</td>\n",
       "      <td>3897</td>\n",
       "    </tr>\n",
       "    <tr>\n",
       "      <th>1</th>\n",
       "      <td>1</td>\n",
       "      <td>3</td>\n",
       "      <td>0</td>\n",
       "      <td>1</td>\n",
       "      <td>5</td>\n",
       "      <td>2019</td>\n",
       "      <td>5</td>\n",
       "      <td>50</td>\n",
       "      <td>1</td>\n",
       "      <td>13</td>\n",
       "      <td>15</td>\n",
       "      <td>7662</td>\n",
       "    </tr>\n",
       "    <tr>\n",
       "      <th>2</th>\n",
       "      <td>4</td>\n",
       "      <td>2</td>\n",
       "      <td>1</td>\n",
       "      <td>9</td>\n",
       "      <td>6</td>\n",
       "      <td>2019</td>\n",
       "      <td>9</td>\n",
       "      <td>25</td>\n",
       "      <td>10</td>\n",
       "      <td>4</td>\n",
       "      <td>25</td>\n",
       "      <td>13882</td>\n",
       "    </tr>\n",
       "    <tr>\n",
       "      <th>3</th>\n",
       "      <td>3</td>\n",
       "      <td>3</td>\n",
       "      <td>0</td>\n",
       "      <td>12</td>\n",
       "      <td>5</td>\n",
       "      <td>2019</td>\n",
       "      <td>18</td>\n",
       "      <td>5</td>\n",
       "      <td>12</td>\n",
       "      <td>23</td>\n",
       "      <td>30</td>\n",
       "      <td>6218</td>\n",
       "    </tr>\n",
       "    <tr>\n",
       "      <th>4</th>\n",
       "      <td>3</td>\n",
       "      <td>0</td>\n",
       "      <td>5</td>\n",
       "      <td>1</td>\n",
       "      <td>3</td>\n",
       "      <td>2019</td>\n",
       "      <td>16</td>\n",
       "      <td>50</td>\n",
       "      <td>1</td>\n",
       "      <td>21</td>\n",
       "      <td>35</td>\n",
       "      <td>13302</td>\n",
       "    </tr>\n",
       "  </tbody>\n",
       "</table>\n",
       "</div>"
      ],
      "text/plain": [
       "   Airline  Source  Destination  Date  Month  Year  Dep_Time_Hour  \\\n",
       "0        3       0            5    24      3  2019             22   \n",
       "1        1       3            0     1      5  2019              5   \n",
       "2        4       2            1     9      6  2019              9   \n",
       "3        3       3            0    12      5  2019             18   \n",
       "4        3       0            5     1      3  2019             16   \n",
       "\n",
       "   Dep_Time_Mins  Arrival_date  Arrival_Time_Hour  Arrival_Time_Mins  Price  \n",
       "0             20            22                  1                 10   3897  \n",
       "1             50             1                 13                 15   7662  \n",
       "2             25            10                  4                 25  13882  \n",
       "3              5            12                 23                 30   6218  \n",
       "4             50             1                 21                 35  13302  "
      ]
     },
     "execution_count": 64,
     "metadata": {},
     "output_type": "execute_result"
    }
   ],
   "source": [
    "\n",
    "col=pd.DataFrame(data,columns=['Airline','Source','Destination','Date','Month','Year','Dep_Time_Hour','Dep_Time_Mins','Arrival_date','Arrival_Time_Hour','Arrival_Time_Mins','Price'])\n",
    "pd.DataFrame(data)\n",
    "col.head()\n"
   ]
  },
  {
   "cell_type": "code",
   "execution_count": 65,
   "metadata": {},
   "outputs": [],
   "source": [
    "x = data[['Airline','Source','Destination','Date','Month','Year','Dep_Time_Hour','Dep_Time_Mins','Arrival_date','Arrival_Time_Hour','Arrival_Time_Mins','Price']]"
   ]
  },
  {
   "cell_type": "code",
   "execution_count": 66,
   "metadata": {
    "scrolled": true
   },
   "outputs": [
    {
     "data": {
      "text/html": [
       "<div>\n",
       "<style scoped>\n",
       "    .dataframe tbody tr th:only-of-type {\n",
       "        vertical-align: middle;\n",
       "    }\n",
       "\n",
       "    .dataframe tbody tr th {\n",
       "        vertical-align: top;\n",
       "    }\n",
       "\n",
       "    .dataframe thead th {\n",
       "        text-align: right;\n",
       "    }\n",
       "</style>\n",
       "<table border=\"1\" class=\"dataframe\">\n",
       "  <thead>\n",
       "    <tr style=\"text-align: right;\">\n",
       "      <th></th>\n",
       "      <th>Airline</th>\n",
       "      <th>Source</th>\n",
       "      <th>Destination</th>\n",
       "      <th>Date</th>\n",
       "      <th>Month</th>\n",
       "      <th>Year</th>\n",
       "      <th>Dep_Time_Hour</th>\n",
       "      <th>Dep_Time_Mins</th>\n",
       "      <th>Arrival_date</th>\n",
       "      <th>Arrival_Time_Hour</th>\n",
       "      <th>Arrival_Time_Mins</th>\n",
       "      <th>Price</th>\n",
       "    </tr>\n",
       "  </thead>\n",
       "  <tbody>\n",
       "    <tr>\n",
       "      <th>0</th>\n",
       "      <td>3</td>\n",
       "      <td>0</td>\n",
       "      <td>5</td>\n",
       "      <td>24</td>\n",
       "      <td>3</td>\n",
       "      <td>2019</td>\n",
       "      <td>22</td>\n",
       "      <td>20</td>\n",
       "      <td>22</td>\n",
       "      <td>1</td>\n",
       "      <td>10</td>\n",
       "      <td>3897</td>\n",
       "    </tr>\n",
       "    <tr>\n",
       "      <th>1</th>\n",
       "      <td>1</td>\n",
       "      <td>3</td>\n",
       "      <td>0</td>\n",
       "      <td>1</td>\n",
       "      <td>5</td>\n",
       "      <td>2019</td>\n",
       "      <td>5</td>\n",
       "      <td>50</td>\n",
       "      <td>1</td>\n",
       "      <td>13</td>\n",
       "      <td>15</td>\n",
       "      <td>7662</td>\n",
       "    </tr>\n",
       "    <tr>\n",
       "      <th>2</th>\n",
       "      <td>4</td>\n",
       "      <td>2</td>\n",
       "      <td>1</td>\n",
       "      <td>9</td>\n",
       "      <td>6</td>\n",
       "      <td>2019</td>\n",
       "      <td>9</td>\n",
       "      <td>25</td>\n",
       "      <td>10</td>\n",
       "      <td>4</td>\n",
       "      <td>25</td>\n",
       "      <td>13882</td>\n",
       "    </tr>\n",
       "    <tr>\n",
       "      <th>3</th>\n",
       "      <td>3</td>\n",
       "      <td>3</td>\n",
       "      <td>0</td>\n",
       "      <td>12</td>\n",
       "      <td>5</td>\n",
       "      <td>2019</td>\n",
       "      <td>18</td>\n",
       "      <td>5</td>\n",
       "      <td>12</td>\n",
       "      <td>23</td>\n",
       "      <td>30</td>\n",
       "      <td>6218</td>\n",
       "    </tr>\n",
       "    <tr>\n",
       "      <th>4</th>\n",
       "      <td>3</td>\n",
       "      <td>0</td>\n",
       "      <td>5</td>\n",
       "      <td>1</td>\n",
       "      <td>3</td>\n",
       "      <td>2019</td>\n",
       "      <td>16</td>\n",
       "      <td>50</td>\n",
       "      <td>1</td>\n",
       "      <td>21</td>\n",
       "      <td>35</td>\n",
       "      <td>13302</td>\n",
       "    </tr>\n",
       "  </tbody>\n",
       "</table>\n",
       "</div>"
      ],
      "text/plain": [
       "   Airline  Source  Destination  Date  Month  Year  Dep_Time_Hour  \\\n",
       "0        3       0            5    24      3  2019             22   \n",
       "1        1       3            0     1      5  2019              5   \n",
       "2        4       2            1     9      6  2019              9   \n",
       "3        3       3            0    12      5  2019             18   \n",
       "4        3       0            5     1      3  2019             16   \n",
       "\n",
       "   Dep_Time_Mins  Arrival_date  Arrival_Time_Hour  Arrival_Time_Mins  Price  \n",
       "0             20            22                  1                 10   3897  \n",
       "1             50             1                 13                 15   7662  \n",
       "2             25            10                  4                 25  13882  \n",
       "3              5            12                 23                 30   6218  \n",
       "4             50             1                 21                 35  13302  "
      ]
     },
     "execution_count": 66,
     "metadata": {},
     "output_type": "execute_result"
    }
   ],
   "source": [
    "x.head()"
   ]
  },
  {
   "cell_type": "code",
   "execution_count": 67,
   "metadata": {},
   "outputs": [
    {
     "data": {
      "text/plain": [
       "(10681, 12)"
      ]
     },
     "execution_count": 67,
     "metadata": {},
     "output_type": "execute_result"
    }
   ],
   "source": [
    "x.shape"
   ]
  },
  {
   "cell_type": "code",
   "execution_count": 68,
   "metadata": {},
   "outputs": [],
   "source": [
    "### Scaling the Data"
   ]
  },
  {
   "cell_type": "code",
   "execution_count": 69,
   "metadata": {},
   "outputs": [],
   "source": [
    "from sklearn.preprocessing import StandardScaler\n",
    "ss=StandardScaler()\n",
    "\n",
    "y = x['Price']\n",
    "x = x.drop(columns=['Price'],axis=1)\n"
   ]
  },
  {
   "cell_type": "code",
   "execution_count": 70,
   "metadata": {},
   "outputs": [],
   "source": [
    "names = x.columns"
   ]
  },
  {
   "cell_type": "code",
   "execution_count": 71,
   "metadata": {},
   "outputs": [],
   "source": [
    "x = ss.fit_transform(x)"
   ]
  },
  {
   "cell_type": "code",
   "execution_count": 72,
   "metadata": {},
   "outputs": [],
   "source": [
    "x = pd.DataFrame(x,columns=names)"
   ]
  },
  {
   "cell_type": "code",
   "execution_count": 73,
   "metadata": {
    "scrolled": true
   },
   "outputs": [
    {
     "data": {
      "text/html": [
       "<div>\n",
       "<style scoped>\n",
       "    .dataframe tbody tr th:only-of-type {\n",
       "        vertical-align: middle;\n",
       "    }\n",
       "\n",
       "    .dataframe tbody tr th {\n",
       "        vertical-align: top;\n",
       "    }\n",
       "\n",
       "    .dataframe thead th {\n",
       "        text-align: right;\n",
       "    }\n",
       "</style>\n",
       "<table border=\"1\" class=\"dataframe\">\n",
       "  <thead>\n",
       "    <tr style=\"text-align: right;\">\n",
       "      <th></th>\n",
       "      <th>Airline</th>\n",
       "      <th>Source</th>\n",
       "      <th>Destination</th>\n",
       "      <th>Date</th>\n",
       "      <th>Month</th>\n",
       "      <th>Year</th>\n",
       "      <th>Dep_Time_Hour</th>\n",
       "      <th>Dep_Time_Mins</th>\n",
       "      <th>Arrival_date</th>\n",
       "      <th>Arrival_Time_Hour</th>\n",
       "      <th>Arrival_Time_Mins</th>\n",
       "    </tr>\n",
       "  </thead>\n",
       "  <tbody>\n",
       "    <tr>\n",
       "      <th>0</th>\n",
       "      <td>-0.410934</td>\n",
       "      <td>-1.658354</td>\n",
       "      <td>2.416648</td>\n",
       "      <td>1.237192</td>\n",
       "      <td>-1.467619</td>\n",
       "      <td>0.0</td>\n",
       "      <td>1.654162</td>\n",
       "      <td>-0.234832</td>\n",
       "      <td>0.955658</td>\n",
       "      <td>-1.800328</td>\n",
       "      <td>-0.889941</td>\n",
       "    </tr>\n",
       "    <tr>\n",
       "      <th>1</th>\n",
       "      <td>-1.261305</td>\n",
       "      <td>0.890262</td>\n",
       "      <td>-0.973718</td>\n",
       "      <td>-1.475375</td>\n",
       "      <td>0.250165</td>\n",
       "      <td>0.0</td>\n",
       "      <td>-1.303018</td>\n",
       "      <td>1.363790</td>\n",
       "      <td>-1.524701</td>\n",
       "      <td>-0.050871</td>\n",
       "      <td>-0.586988</td>\n",
       "    </tr>\n",
       "    <tr>\n",
       "      <th>2</th>\n",
       "      <td>0.014251</td>\n",
       "      <td>0.040723</td>\n",
       "      <td>-0.295645</td>\n",
       "      <td>-0.531874</td>\n",
       "      <td>1.109057</td>\n",
       "      <td>0.0</td>\n",
       "      <td>-0.607211</td>\n",
       "      <td>0.031605</td>\n",
       "      <td>-0.461690</td>\n",
       "      <td>-1.362964</td>\n",
       "      <td>0.018919</td>\n",
       "    </tr>\n",
       "    <tr>\n",
       "      <th>3</th>\n",
       "      <td>-0.410934</td>\n",
       "      <td>0.890262</td>\n",
       "      <td>-0.973718</td>\n",
       "      <td>-0.178060</td>\n",
       "      <td>0.250165</td>\n",
       "      <td>0.0</td>\n",
       "      <td>0.958355</td>\n",
       "      <td>-1.034142</td>\n",
       "      <td>-0.225465</td>\n",
       "      <td>1.407010</td>\n",
       "      <td>0.321872</td>\n",
       "    </tr>\n",
       "    <tr>\n",
       "      <th>4</th>\n",
       "      <td>-0.410934</td>\n",
       "      <td>-1.658354</td>\n",
       "      <td>2.416648</td>\n",
       "      <td>-1.475375</td>\n",
       "      <td>-1.467619</td>\n",
       "      <td>0.0</td>\n",
       "      <td>0.610452</td>\n",
       "      <td>1.363790</td>\n",
       "      <td>-1.524701</td>\n",
       "      <td>1.115434</td>\n",
       "      <td>0.624825</td>\n",
       "    </tr>\n",
       "    <tr>\n",
       "      <th>...</th>\n",
       "      <td>...</td>\n",
       "      <td>...</td>\n",
       "      <td>...</td>\n",
       "      <td>...</td>\n",
       "      <td>...</td>\n",
       "      <td>...</td>\n",
       "      <td>...</td>\n",
       "      <td>...</td>\n",
       "      <td>...</td>\n",
       "      <td>...</td>\n",
       "      <td>...</td>\n",
       "    </tr>\n",
       "    <tr>\n",
       "      <th>10676</th>\n",
       "      <td>-1.686491</td>\n",
       "      <td>0.890262</td>\n",
       "      <td>-0.973718</td>\n",
       "      <td>-0.531874</td>\n",
       "      <td>-0.608727</td>\n",
       "      <td>0.0</td>\n",
       "      <td>1.132307</td>\n",
       "      <td>1.630227</td>\n",
       "      <td>-0.579802</td>\n",
       "      <td>1.261222</td>\n",
       "      <td>0.018919</td>\n",
       "    </tr>\n",
       "    <tr>\n",
       "      <th>10677</th>\n",
       "      <td>-1.261305</td>\n",
       "      <td>0.890262</td>\n",
       "      <td>-0.973718</td>\n",
       "      <td>1.591005</td>\n",
       "      <td>-0.608727</td>\n",
       "      <td>0.0</td>\n",
       "      <td>1.306259</td>\n",
       "      <td>1.097353</td>\n",
       "      <td>1.546220</td>\n",
       "      <td>1.407010</td>\n",
       "      <td>-0.284035</td>\n",
       "    </tr>\n",
       "    <tr>\n",
       "      <th>10678</th>\n",
       "      <td>0.014251</td>\n",
       "      <td>-1.658354</td>\n",
       "      <td>0.382428</td>\n",
       "      <td>1.591005</td>\n",
       "      <td>-0.608727</td>\n",
       "      <td>0.0</td>\n",
       "      <td>-0.781163</td>\n",
       "      <td>-0.234832</td>\n",
       "      <td>1.546220</td>\n",
       "      <td>-0.342447</td>\n",
       "      <td>-0.284035</td>\n",
       "    </tr>\n",
       "    <tr>\n",
       "      <th>10679</th>\n",
       "      <td>2.565364</td>\n",
       "      <td>-1.658354</td>\n",
       "      <td>2.416648</td>\n",
       "      <td>-1.475375</td>\n",
       "      <td>-1.467619</td>\n",
       "      <td>0.0</td>\n",
       "      <td>-0.259307</td>\n",
       "      <td>0.298042</td>\n",
       "      <td>-1.524701</td>\n",
       "      <td>0.094917</td>\n",
       "      <td>-0.889941</td>\n",
       "    </tr>\n",
       "    <tr>\n",
       "      <th>10680</th>\n",
       "      <td>-1.261305</td>\n",
       "      <td>0.040723</td>\n",
       "      <td>-0.295645</td>\n",
       "      <td>-0.531874</td>\n",
       "      <td>0.250165</td>\n",
       "      <td>0.0</td>\n",
       "      <td>-0.433259</td>\n",
       "      <td>1.630227</td>\n",
       "      <td>-0.579802</td>\n",
       "      <td>0.823858</td>\n",
       "      <td>-0.586988</td>\n",
       "    </tr>\n",
       "  </tbody>\n",
       "</table>\n",
       "<p>10681 rows × 11 columns</p>\n",
       "</div>"
      ],
      "text/plain": [
       "        Airline    Source  Destination      Date     Month  Year  \\\n",
       "0     -0.410934 -1.658354     2.416648  1.237192 -1.467619   0.0   \n",
       "1     -1.261305  0.890262    -0.973718 -1.475375  0.250165   0.0   \n",
       "2      0.014251  0.040723    -0.295645 -0.531874  1.109057   0.0   \n",
       "3     -0.410934  0.890262    -0.973718 -0.178060  0.250165   0.0   \n",
       "4     -0.410934 -1.658354     2.416648 -1.475375 -1.467619   0.0   \n",
       "...         ...       ...          ...       ...       ...   ...   \n",
       "10676 -1.686491  0.890262    -0.973718 -0.531874 -0.608727   0.0   \n",
       "10677 -1.261305  0.890262    -0.973718  1.591005 -0.608727   0.0   \n",
       "10678  0.014251 -1.658354     0.382428  1.591005 -0.608727   0.0   \n",
       "10679  2.565364 -1.658354     2.416648 -1.475375 -1.467619   0.0   \n",
       "10680 -1.261305  0.040723    -0.295645 -0.531874  0.250165   0.0   \n",
       "\n",
       "       Dep_Time_Hour  Dep_Time_Mins  Arrival_date  Arrival_Time_Hour  \\\n",
       "0           1.654162      -0.234832      0.955658          -1.800328   \n",
       "1          -1.303018       1.363790     -1.524701          -0.050871   \n",
       "2          -0.607211       0.031605     -0.461690          -1.362964   \n",
       "3           0.958355      -1.034142     -0.225465           1.407010   \n",
       "4           0.610452       1.363790     -1.524701           1.115434   \n",
       "...              ...            ...           ...                ...   \n",
       "10676       1.132307       1.630227     -0.579802           1.261222   \n",
       "10677       1.306259       1.097353      1.546220           1.407010   \n",
       "10678      -0.781163      -0.234832      1.546220          -0.342447   \n",
       "10679      -0.259307       0.298042     -1.524701           0.094917   \n",
       "10680      -0.433259       1.630227     -0.579802           0.823858   \n",
       "\n",
       "       Arrival_Time_Mins  \n",
       "0              -0.889941  \n",
       "1              -0.586988  \n",
       "2               0.018919  \n",
       "3               0.321872  \n",
       "4               0.624825  \n",
       "...                  ...  \n",
       "10676           0.018919  \n",
       "10677          -0.284035  \n",
       "10678          -0.284035  \n",
       "10679          -0.889941  \n",
       "10680          -0.586988  \n",
       "\n",
       "[10681 rows x 11 columns]"
      ]
     },
     "execution_count": 73,
     "metadata": {},
     "output_type": "execute_result"
    }
   ],
   "source": [
    "x"
   ]
  },
  {
   "cell_type": "code",
   "execution_count": 74,
   "metadata": {},
   "outputs": [],
   "source": [
    "from sklearn.model_selection import train_test_split\n",
    "x_train,x_test,y_train,y_test=train_test_split(x,y,test_size=0.2,random_state=42)\n"
   ]
  },
  {
   "cell_type": "code",
   "execution_count": 75,
   "metadata": {},
   "outputs": [],
   "source": [
    "from sklearn.ensemble import RandomForestRegressor, GradientBoostingRegressor, AdaBoostRegressor\n",
    "rfr=RandomForestRegressor()\n",
    "gb=GradientBoostingRegressor()\n",
    "ad=AdaBoostRegressor()\n"
   ]
  },
  {
   "cell_type": "code",
   "execution_count": 76,
   "metadata": {},
   "outputs": [
    {
     "name": "stdout",
     "output_type": "stream",
     "text": [
      "RandomForestRegressor()\n",
      "R2 score is 0.8257576815982792\n",
      "R2 for train data 0.9515977600975416\n",
      "Mean Absolute Error is 1181.8755697754257\n",
      "Mean Squared Error is 3678562.180511524\n",
      "Root Mean Sqaured Error is 1917.957815102179\n",
      "GradientBoostingRegressor()\n",
      "R2 score is 0.7647446016278976\n",
      "R2 for train data 0.7333243455087604\n",
      "Mean Absolute Error is 1678.5550101199212\n",
      "Mean Squared Error is 4966655.742134811\n",
      "Root Mean Sqaured Error is 2228.599502408365\n",
      "AdaBoostRegressor()\n",
      "R2 score is 0.2282986902977775\n",
      "R2 for train data 0.25463358232400046\n",
      "Mean Absolute Error is 3307.0979599343855\n",
      "Mean Squared Error is 16291973.606417377\n",
      "Root Mean Sqaured Error is 4036.331701733317\n"
     ]
    }
   ],
   "source": [
    "from sklearn.metrics import r2_score,mean_absolute_error,mean_squared_error\n",
    "\n",
    "for i in [rfr,gb,ad]:\n",
    "    i.fit(x_train,y_train)\n",
    "    y_pred=i.predict(x_test)\n",
    "    test_score=r2_score(y_test,y_pred)\n",
    "    train_score=r2_score(y_train, i.predict(x_train))\n",
    "    if abs(train_score-test_score)<=0.2:\n",
    "        print(i)\n",
    "        \n",
    "        print(\"R2 score is\",r2_score(y_test,y_pred))\n",
    "        print(\"R2 for train data\",r2_score(y_train, i.predict(x_train)))\n",
    "        print(\"Mean Absolute Error is\",mean_absolute_error(y_pred,y_test))\n",
    "        print(\"Mean Squared Error is\",mean_squared_error(y_pred,y_test))\n",
    "        print(\"Root Mean Sqaured Error is\", (mean_squared_error(y_pred,y_test,squared=False)))\n"
   ]
  },
  {
   "cell_type": "code",
   "execution_count": 77,
   "metadata": {},
   "outputs": [
    {
     "name": "stdout",
     "output_type": "stream",
     "text": [
      "RandomForestRegressor() 0.7924125914002996\n",
      "RandomForestRegressor() 0.7937555071487714\n",
      "RandomForestRegressor() 0.7991811588717549\n"
     ]
    }
   ],
   "source": [
    "from sklearn.model_selection import cross_val_score\n",
    "for i in range(2,5):\n",
    "    cv=cross_val_score(rfr,x,y,cv=i)\n",
    "    print(rfr,cv.mean())\n",
    "    "
   ]
  },
  {
   "cell_type": "code",
   "execution_count": 78,
   "metadata": {},
   "outputs": [],
   "source": [
    "from sklearn.model_selection import RandomizedSearchCV"
   ]
  },
  {
   "cell_type": "code",
   "execution_count": 79,
   "metadata": {},
   "outputs": [
    {
     "name": "stdout",
     "output_type": "stream",
     "text": [
      "Fitting 3 folds for each of 10 candidates, totalling 30 fits\n",
      "[CV] END ....max_depth=3, max_features=sqrt, n_estimators=10; total time=   0.0s\n",
      "[CV] END ....max_depth=3, max_features=sqrt, n_estimators=10; total time=   0.0s\n",
      "[CV] END ....max_depth=3, max_features=sqrt, n_estimators=10; total time=   0.0s\n",
      "[CV] END ....max_depth=3, max_features=auto, n_estimators=50; total time=   0.2s\n",
      "[CV] END ....max_depth=3, max_features=auto, n_estimators=50; total time=   0.2s\n",
      "[CV] END ....max_depth=3, max_features=auto, n_estimators=50; total time=   0.2s\n",
      "[CV] END ....max_depth=3, max_features=auto, n_estimators=70; total time=   0.2s\n",
      "[CV] END ....max_depth=3, max_features=auto, n_estimators=70; total time=   0.2s\n",
      "[CV] END ....max_depth=3, max_features=auto, n_estimators=70; total time=   0.2s\n",
      "[CV] END max_depth=None, max_features=auto, n_estimators=100; total time=   1.3s\n",
      "[CV] END max_depth=None, max_features=auto, n_estimators=100; total time=   1.3s\n",
      "[CV] END max_depth=None, max_features=auto, n_estimators=100; total time=   1.3s\n",
      "[CV] END ...max_depth=2, max_features=sqrt, n_estimators=100; total time=   0.2s\n",
      "[CV] END ...max_depth=2, max_features=sqrt, n_estimators=100; total time=   0.2s\n",
      "[CV] END ...max_depth=2, max_features=sqrt, n_estimators=100; total time=   0.2s\n",
      "[CV] END ....max_depth=3, max_features=sqrt, n_estimators=70; total time=   0.1s\n",
      "[CV] END ....max_depth=3, max_features=sqrt, n_estimators=70; total time=   0.1s\n",
      "[CV] END ....max_depth=3, max_features=sqrt, n_estimators=70; total time=   0.1s\n",
      "[CV] END ....max_depth=1, max_features=auto, n_estimators=30; total time=   0.1s\n",
      "[CV] END ....max_depth=1, max_features=auto, n_estimators=30; total time=   0.1s\n",
      "[CV] END ....max_depth=1, max_features=auto, n_estimators=30; total time=   0.1s\n",
      "[CV] END .max_depth=None, max_features=auto, n_estimators=70; total time=   0.9s\n",
      "[CV] END .max_depth=None, max_features=auto, n_estimators=70; total time=   0.9s\n",
      "[CV] END .max_depth=None, max_features=auto, n_estimators=70; total time=   0.9s\n",
      "[CV] END ....max_depth=1, max_features=sqrt, n_estimators=10; total time=   0.0s\n",
      "[CV] END ....max_depth=1, max_features=sqrt, n_estimators=10; total time=   0.0s\n",
      "[CV] END ....max_depth=1, max_features=sqrt, n_estimators=10; total time=   0.0s\n",
      "[CV] END max_depth=None, max_features=sqrt, n_estimators=100; total time=   0.6s\n",
      "[CV] END max_depth=None, max_features=sqrt, n_estimators=100; total time=   0.6s\n",
      "[CV] END max_depth=None, max_features=sqrt, n_estimators=100; total time=   0.6s\n"
     ]
    },
    {
     "data": {
      "text/plain": [
       "RandomizedSearchCV(cv=3, estimator=RandomForestRegressor(), n_jobs=-1,\n",
       "                   param_distributions={'max_depth': [None, 1, 2, 3],\n",
       "                                        'max_features': ['auto', 'sqrt'],\n",
       "                                        'n_estimators': [10, 30, 50, 70, 100]},\n",
       "                   verbose=2)"
      ]
     },
     "execution_count": 79,
     "metadata": {},
     "output_type": "execute_result"
    }
   ],
   "source": [
    "param_grid={'n_estimators':[10,30,50,70,100],'max_depth':[None,1,2,3],\n",
    "            'max_features':['auto','sqrt']}\n",
    "rfr=RandomForestRegressor()\n",
    "rf_res=RandomizedSearchCV(estimator=rfr,param_distributions=param_grid,cv=3,verbose=2,n_jobs=-1)\n",
    "\n",
    "rf_res.fit(x_train,y_train)\n",
    "\n",
    "\n"
   ]
  },
  {
   "cell_type": "code",
   "execution_count": 80,
   "metadata": {},
   "outputs": [
    {
     "name": "stdout",
     "output_type": "stream",
     "text": [
      "Fitting 3 folds for each of 10 candidates, totalling 30 fits\n",
      "[CV] END ....max_depth=1, max_features=sqrt, n_estimators=50; total time=   0.0s\n",
      "[CV] END ....max_depth=1, max_features=sqrt, n_estimators=50; total time=   0.0s\n",
      "[CV] END ....max_depth=1, max_features=sqrt, n_estimators=50; total time=   0.0s\n",
      "[CV] END ....max_depth=3, max_features=auto, n_estimators=30; total time=   0.1s\n",
      "[CV] END ....max_depth=3, max_features=auto, n_estimators=30; total time=   0.1s\n",
      "[CV] END ....max_depth=3, max_features=auto, n_estimators=30; total time=   0.1s\n",
      "[CV] END ....max_depth=3, max_features=auto, n_estimators=70; total time=   0.3s\n",
      "[CV] END ....max_depth=3, max_features=auto, n_estimators=70; total time=   0.3s\n",
      "[CV] END ....max_depth=3, max_features=auto, n_estimators=70; total time=   0.3s\n",
      "[CV] END ....max_depth=1, max_features=auto, n_estimators=30; total time=   0.0s\n",
      "[CV] END ....max_depth=1, max_features=auto, n_estimators=30; total time=   0.0s\n",
      "[CV] END ....max_depth=1, max_features=auto, n_estimators=30; total time=   0.0s\n",
      "[CV] END ....max_depth=3, max_features=sqrt, n_estimators=30; total time=   0.0s\n",
      "[CV] END ....max_depth=3, max_features=sqrt, n_estimators=30; total time=   0.0s\n",
      "[CV] END ....max_depth=3, max_features=sqrt, n_estimators=30; total time=   0.0s\n",
      "[CV] END ....max_depth=1, max_features=auto, n_estimators=10; total time=   0.0s\n",
      "[CV] END ....max_depth=1, max_features=auto, n_estimators=10; total time=   0.0s\n",
      "[CV] END ....max_depth=1, max_features=auto, n_estimators=10; total time=   0.0s\n",
      "[CV] END ...max_depth=2, max_features=sqrt, n_estimators=100; total time=   0.1s\n",
      "[CV] END ...max_depth=2, max_features=sqrt, n_estimators=100; total time=   0.1s\n",
      "[CV] END ...max_depth=2, max_features=sqrt, n_estimators=100; total time=   0.1s\n",
      "[CV] END ....max_depth=3, max_features=sqrt, n_estimators=70; total time=   0.1s\n",
      "[CV] END ....max_depth=3, max_features=sqrt, n_estimators=70; total time=   0.1s\n",
      "[CV] END ....max_depth=3, max_features=sqrt, n_estimators=70; total time=   0.1s\n",
      "[CV] END max_depth=None, max_features=auto, n_estimators=100; total time=   1.9s\n",
      "[CV] END max_depth=None, max_features=auto, n_estimators=100; total time=   1.9s\n",
      "[CV] END max_depth=None, max_features=auto, n_estimators=100; total time=   1.9s\n",
      "[CV] END ...max_depth=1, max_features=auto, n_estimators=100; total time=   0.2s\n",
      "[CV] END ...max_depth=1, max_features=auto, n_estimators=100; total time=   0.2s\n",
      "[CV] END ...max_depth=1, max_features=auto, n_estimators=100; total time=   0.2s\n"
     ]
    },
    {
     "data": {
      "text/plain": [
       "RandomizedSearchCV(cv=3, estimator=GradientBoostingRegressor(), n_jobs=-1,\n",
       "                   param_distributions={'max_depth': [None, 1, 2, 3],\n",
       "                                        'max_features': ['auto', 'sqrt'],\n",
       "                                        'n_estimators': [10, 30, 50, 70, 100]},\n",
       "                   verbose=2)"
      ]
     },
     "execution_count": 80,
     "metadata": {},
     "output_type": "execute_result"
    }
   ],
   "source": [
    "gb=GradientBoostingRegressor()\n",
    "gb_res=RandomizedSearchCV(estimator=gb,param_distributions=param_grid,cv=3,verbose=2,n_jobs=-1)                                                                                                                                                                                                                                                                                                                                                                                                                                                                                                                                                                                                                                                                                                                                                                                                                                                                                                                                                                                                                                                                                                                                                                                                                                                                                                                                                                                                                                                                                                                                                                                                                                                                                                                                                                                                                                                                                                                                                                                                                                                                                                                                                                                                                                                                                                                                                                                                                                                                                                                                                                                                                                                                                                                                                                                                                                                                                                                                                                                                                                                                                                                                                                                                                                                                                                                                                                                                                                                                                                                                                                                                                                                                                                                                                                                                                                                                                                                                                                                                                                                                                                                                                                                                                                                                                                                                                                                                                                                                                                                                                                                                                                                                                                                                                                                                                                                                                                                                                                                                                                                                                                                                                                                                                                                                                                                                                                                                                                                                                                                                                                                                                                                                                                                                                                                                                                                                                                                                                                                                                                                                                                                                                                                                                                                                                        \n",
    "\n",
    "gb_res.fit(x_train,y_train)\n",
    "\n"
   ]
  },
  {
   "cell_type": "code",
   "execution_count": null,
   "metadata": {},
   "outputs": [],
   "source": []
  },
  {
   "cell_type": "code",
   "execution_count": 81,
   "metadata": {},
   "outputs": [
    {
     "name": "stdout",
     "output_type": "stream",
     "text": [
      "train accuracy 0.9292503810305048\n",
      "test accuracy 0.7683322118780398\n"
     ]
    }
   ],
   "source": [
    "rfr=RandomForestRegressor(n_estimators=10,max_features='sqrt',max_depth=None)\n",
    "rfr.fit(x_train,y_train)\n",
    "y_train_pred=rfr.predict(x_train)\n",
    "y_test_pred=rfr.predict(x_test)\n",
    "print(\"train accuracy\",r2_score(y_train_pred,y_train))\n",
    "print(\"test accuracy\",r2_score(y_test_pred,y_test))\n"
   ]
  },
  {
   "cell_type": "code",
   "execution_count": 82,
   "metadata": {},
   "outputs": [
    {
     "name": "stdout",
     "output_type": "stream",
     "text": [
      "RandomForestRegressor(max_features='sqrt', n_estimators=10) 0.7264816786815168\n",
      "RandomForestRegressor(max_features='sqrt', n_estimators=10) 0.7287887852835201\n",
      "RandomForestRegressor(max_features='sqrt', n_estimators=10) 0.7280385866823946\n"
     ]
    }
   ],
   "source": [
    "from sklearn.model_selection import cross_val_score\n",
    "for i in range(2,5):\n",
    "    cv=cross_val_score(gb,x,y,cv=i)\n",
    "    print(rfr,cv.mean())"
   ]
  },
  {
   "cell_type": "code",
   "execution_count": 83,
   "metadata": {},
   "outputs": [
    {
     "name": "stdout",
     "output_type": "stream",
     "text": [
      "train accuracy 0.6362472610138679\n",
      "test accuracy 0.2546064503570954\n"
     ]
    }
   ],
   "source": [
    "gb=GradientBoostingRegressor(n_estimators=10,max_features='sqrt',max_depth=None)\n",
    "gb.fit(x_train,y_train)\n",
    "y_train_pred=gb.predict(x_train)\n",
    "y_test_pred=gb.predict(x_test)\n",
    "print(\"train accuracy\",r2_score(y_train_pred,y_train))\n",
    "print(\"test accuracy\",r2_score(y_test_pred,y_test))\n"
   ]
  },
  {
   "cell_type": "code",
   "execution_count": 84,
   "metadata": {},
   "outputs": [
    {
     "name": "stdout",
     "output_type": "stream",
     "text": [
      "KNeighborsRegressor()\n",
      "R2 Score is 0.7357369816529409\n",
      "R2 Score for train data 0.7900498333828809\n",
      "Mean Absolute Error is 1635.1700514740292\n",
      "Mean Squared Error is 5579057.681946654\n",
      "Root Mean Squared Error is 2362.0028962612755\n",
      "SVR()\n",
      "R2 Score is -0.007934481035057894\n",
      "R2 Score for train data -0.012381130959185693\n",
      "Mean Absolute Error is 3631.923243955232\n",
      "Mean Squared Error is 21279271.857602067\n",
      "Root Mean Squared Error is 4612.94611475162\n"
     ]
    }
   ],
   "source": [
    "from sklearn.neighbors import KNeighborsRegressor\n",
    "from sklearn.svm import SVR\n",
    "from sklearn.tree import DecisionTreeRegressor\n",
    "\n",
    "from sklearn.metrics import r2_score,mean_absolute_error,mean_squared_error\n",
    "\n",
    "knn=KNeighborsRegressor()\n",
    "svr=SVR()\n",
    "dt=DecisionTreeRegressor()\n",
    "\n",
    "for i in [knn,svr,dt]:\n",
    "    i.fit(x_train,y_train)\n",
    "    y_pred=i.predict(x_test)\n",
    "    test_score=r2_score(y_test,y_pred)\n",
    "    train_score=r2_score(y_train,i.predict(x_train))\n",
    "    if abs(train_score-test_score)<=0.1:\n",
    "        print(i)\n",
    "        print('R2 Score is',r2_score(y_test,y_pred))\n",
    "        print('R2 Score for train data',r2_score(y_train,i.predict(x_train)))\n",
    "        print('Mean Absolute Error is',mean_absolute_error(y_test,y_pred))\n",
    "        print('Mean Squared Error is',mean_squared_error(y_test,y_pred))\n",
    "        print('Root Mean Squared Error is',(mean_squared_error(y_test,y_pred,squared=False)))\n",
    "        "
   ]
  },
  {
   "cell_type": "code",
   "execution_count": 85,
   "metadata": {},
   "outputs": [
    {
     "name": "stdout",
     "output_type": "stream",
     "text": [
      "train accuracy 0.8820379322359039\n",
      "test accuracy 0.6854801361938638\n"
     ]
    }
   ],
   "source": [
    "knn=KNeighborsRegressor(n_neighbors=2,algorithm='auto',metric_params=None,n_jobs=-1)\n",
    "knn.fit(x_train,y_train)\n",
    "y_train_pred=knn.predict(x_train)\n",
    "y_test_pred=knn.predict(x_test)\n",
    "print(\"train accuracy\",r2_score(y_train_pred,y_train))\n",
    "print(\"test accuracy\",r2_score(y_test_pred,y_test))"
   ]
  },
  {
   "cell_type": "code",
   "execution_count": 86,
   "metadata": {},
   "outputs": [
    {
     "name": "stdout",
     "output_type": "stream",
     "text": [
      "KNeighborsRegressor(n_jobs=-1, n_neighbors=2) 0.630633801839191\n",
      "KNeighborsRegressor(n_jobs=-1, n_neighbors=2) 0.6447308601134175\n",
      "KNeighborsRegressor(n_jobs=-1, n_neighbors=2) 0.6645557655070159\n"
     ]
    }
   ],
   "source": [
    "from sklearn.model_selection import cross_val_score\n",
    "for i in range(2,5):\n",
    "    cv=cross_val_score(knn,x,y,cv=i)\n",
    "    print(knn,cv.mean())"
   ]
  },
  {
   "cell_type": "code",
   "execution_count": 87,
   "metadata": {},
   "outputs": [],
   "source": [
    "predicted_values=pd.DataFrame({'Actual':y_test,'Predicted':y_pred})"
   ]
  },
  {
   "cell_type": "code",
   "execution_count": 88,
   "metadata": {},
   "outputs": [
    {
     "data": {
      "text/html": [
       "<div>\n",
       "<style scoped>\n",
       "    .dataframe tbody tr th:only-of-type {\n",
       "        vertical-align: middle;\n",
       "    }\n",
       "\n",
       "    .dataframe tbody tr th {\n",
       "        vertical-align: top;\n",
       "    }\n",
       "\n",
       "    .dataframe thead th {\n",
       "        text-align: right;\n",
       "    }\n",
       "</style>\n",
       "<table border=\"1\" class=\"dataframe\">\n",
       "  <thead>\n",
       "    <tr style=\"text-align: right;\">\n",
       "      <th></th>\n",
       "      <th>Actual</th>\n",
       "      <th>Predicted</th>\n",
       "    </tr>\n",
       "  </thead>\n",
       "  <tbody>\n",
       "    <tr>\n",
       "      <th>4830</th>\n",
       "      <td>7476</td>\n",
       "      <td>6565.0</td>\n",
       "    </tr>\n",
       "    <tr>\n",
       "      <th>3771</th>\n",
       "      <td>7927</td>\n",
       "      <td>8295.0</td>\n",
       "    </tr>\n",
       "    <tr>\n",
       "      <th>1523</th>\n",
       "      <td>5963</td>\n",
       "      <td>12032.0</td>\n",
       "    </tr>\n",
       "    <tr>\n",
       "      <th>3393</th>\n",
       "      <td>16289</td>\n",
       "      <td>12898.0</td>\n",
       "    </tr>\n",
       "    <tr>\n",
       "      <th>4169</th>\n",
       "      <td>8016</td>\n",
       "      <td>5769.0</td>\n",
       "    </tr>\n",
       "    <tr>\n",
       "      <th>...</th>\n",
       "      <td>...</td>\n",
       "      <td>...</td>\n",
       "    </tr>\n",
       "    <tr>\n",
       "      <th>9871</th>\n",
       "      <td>4622</td>\n",
       "      <td>6251.0</td>\n",
       "    </tr>\n",
       "    <tr>\n",
       "      <th>10063</th>\n",
       "      <td>7452</td>\n",
       "      <td>6152.0</td>\n",
       "    </tr>\n",
       "    <tr>\n",
       "      <th>6912</th>\n",
       "      <td>7480</td>\n",
       "      <td>7480.0</td>\n",
       "    </tr>\n",
       "    <tr>\n",
       "      <th>8617</th>\n",
       "      <td>14151</td>\n",
       "      <td>14335.0</td>\n",
       "    </tr>\n",
       "    <tr>\n",
       "      <th>8989</th>\n",
       "      <td>14871</td>\n",
       "      <td>14871.0</td>\n",
       "    </tr>\n",
       "  </tbody>\n",
       "</table>\n",
       "<p>2137 rows × 2 columns</p>\n",
       "</div>"
      ],
      "text/plain": [
       "       Actual  Predicted\n",
       "4830     7476     6565.0\n",
       "3771     7927     8295.0\n",
       "1523     5963    12032.0\n",
       "3393    16289    12898.0\n",
       "4169     8016     5769.0\n",
       "...       ...        ...\n",
       "9871     4622     6251.0\n",
       "10063    7452     6152.0\n",
       "6912     7480     7480.0\n",
       "8617    14151    14335.0\n",
       "8989    14871    14871.0\n",
       "\n",
       "[2137 rows x 2 columns]"
      ]
     },
     "execution_count": 88,
     "metadata": {},
     "output_type": "execute_result"
    }
   ],
   "source": [
    "predicted_values"
   ]
  },
  {
   "cell_type": "code",
   "execution_count": null,
   "metadata": {},
   "outputs": [],
   "source": []
  },
  {
   "cell_type": "code",
   "execution_count": 89,
   "metadata": {},
   "outputs": [],
   "source": [
    "prices=rfr.predict(x_test)"
   ]
  },
  {
   "cell_type": "code",
   "execution_count": 90,
   "metadata": {},
   "outputs": [],
   "source": [
    "price_list=pd.DataFrame({'Price':prices})"
   ]
  },
  {
   "cell_type": "code",
   "execution_count": 91,
   "metadata": {},
   "outputs": [
    {
     "data": {
      "text/html": [
       "<div>\n",
       "<style scoped>\n",
       "    .dataframe tbody tr th:only-of-type {\n",
       "        vertical-align: middle;\n",
       "    }\n",
       "\n",
       "    .dataframe tbody tr th {\n",
       "        vertical-align: top;\n",
       "    }\n",
       "\n",
       "    .dataframe thead th {\n",
       "        text-align: right;\n",
       "    }\n",
       "</style>\n",
       "<table border=\"1\" class=\"dataframe\">\n",
       "  <thead>\n",
       "    <tr style=\"text-align: right;\">\n",
       "      <th></th>\n",
       "      <th>Price</th>\n",
       "    </tr>\n",
       "  </thead>\n",
       "  <tbody>\n",
       "    <tr>\n",
       "      <th>0</th>\n",
       "      <td>5829.3000</td>\n",
       "    </tr>\n",
       "    <tr>\n",
       "      <th>1</th>\n",
       "      <td>8372.4000</td>\n",
       "    </tr>\n",
       "    <tr>\n",
       "      <th>2</th>\n",
       "      <td>10076.2875</td>\n",
       "    </tr>\n",
       "    <tr>\n",
       "      <th>3</th>\n",
       "      <td>13528.2500</td>\n",
       "    </tr>\n",
       "    <tr>\n",
       "      <th>4</th>\n",
       "      <td>5915.0000</td>\n",
       "    </tr>\n",
       "    <tr>\n",
       "      <th>...</th>\n",
       "      <td>...</td>\n",
       "    </tr>\n",
       "    <tr>\n",
       "      <th>2132</th>\n",
       "      <td>6082.3000</td>\n",
       "    </tr>\n",
       "    <tr>\n",
       "      <th>2133</th>\n",
       "      <td>6213.1000</td>\n",
       "    </tr>\n",
       "    <tr>\n",
       "      <th>2134</th>\n",
       "      <td>7621.6000</td>\n",
       "    </tr>\n",
       "    <tr>\n",
       "      <th>2135</th>\n",
       "      <td>13391.3000</td>\n",
       "    </tr>\n",
       "    <tr>\n",
       "      <th>2136</th>\n",
       "      <td>13512.6000</td>\n",
       "    </tr>\n",
       "  </tbody>\n",
       "</table>\n",
       "<p>2137 rows × 1 columns</p>\n",
       "</div>"
      ],
      "text/plain": [
       "           Price\n",
       "0      5829.3000\n",
       "1      8372.4000\n",
       "2     10076.2875\n",
       "3     13528.2500\n",
       "4      5915.0000\n",
       "...          ...\n",
       "2132   6082.3000\n",
       "2133   6213.1000\n",
       "2134   7621.6000\n",
       "2135  13391.3000\n",
       "2136  13512.6000\n",
       "\n",
       "[2137 rows x 1 columns]"
      ]
     },
     "execution_count": 91,
     "metadata": {},
     "output_type": "execute_result"
    }
   ],
   "source": [
    "price_list"
   ]
  },
  {
   "cell_type": "code",
   "execution_count": 92,
   "metadata": {
    "scrolled": true
   },
   "outputs": [],
   "source": [
    "import pickle\n",
    "pickle.dump(rfr,open('model1.pkl','wb'))\n"
   ]
  },
  {
   "cell_type": "code",
   "execution_count": 93,
   "metadata": {},
   "outputs": [
    {
     "name": "stdout",
     "output_type": "stream",
     "text": [
      "model1.pkl\r\n"
     ]
    }
   ],
   "source": [
    "!tar -zcvf flight-price-model_new.tgz model1.pkl"
   ]
  },
  {
   "cell_type": "code",
   "execution_count": 94,
   "metadata": {},
   "outputs": [
    {
     "name": "stdout",
     "output_type": "stream",
     "text": [
      "flight-price-model_new.tgz\r\n",
      "model1.pkl\r\n"
     ]
    }
   ],
   "source": [
    "ls-1"
   ]
  },
  {
   "cell_type": "code",
   "execution_count": 95,
   "metadata": {},
   "outputs": [
    {
     "name": "stdout",
     "output_type": "stream",
     "text": [
      "Collecting watson-machine-learning-client\n",
      "  Downloading watson_machine_learning_client-1.0.391-py3-none-any.whl (538 kB)\n",
      "\u001b[K     |████████████████████████████████| 538 kB 27.3 MB/s eta 0:00:01\n",
      "\u001b[?25hRequirement already satisfied: ibm-cos-sdk in /opt/conda/envs/Python-3.9/lib/python3.9/site-packages (from watson-machine-learning-client) (2.11.0)\n",
      "Requirement already satisfied: tabulate in /opt/conda/envs/Python-3.9/lib/python3.9/site-packages (from watson-machine-learning-client) (0.8.9)\n",
      "Requirement already satisfied: tqdm in /opt/conda/envs/Python-3.9/lib/python3.9/site-packages (from watson-machine-learning-client) (4.62.3)\n",
      "Requirement already satisfied: urllib3 in /opt/conda/envs/Python-3.9/lib/python3.9/site-packages (from watson-machine-learning-client) (1.26.7)\n",
      "Requirement already satisfied: pandas in /opt/conda/envs/Python-3.9/lib/python3.9/site-packages (from watson-machine-learning-client) (1.3.4)\n",
      "Requirement already satisfied: certifi in /opt/conda/envs/Python-3.9/lib/python3.9/site-packages (from watson-machine-learning-client) (2022.5.18.1)\n",
      "Requirement already satisfied: requests in /opt/conda/envs/Python-3.9/lib/python3.9/site-packages (from watson-machine-learning-client) (2.26.0)\n",
      "Requirement already satisfied: boto3 in /opt/conda/envs/Python-3.9/lib/python3.9/site-packages (from watson-machine-learning-client) (1.18.21)\n",
      "Requirement already satisfied: lomond in /opt/conda/envs/Python-3.9/lib/python3.9/site-packages (from watson-machine-learning-client) (0.3.3)\n",
      "Requirement already satisfied: s3transfer<0.6.0,>=0.5.0 in /opt/conda/envs/Python-3.9/lib/python3.9/site-packages (from boto3->watson-machine-learning-client) (0.5.0)\n",
      "Requirement already satisfied: jmespath<1.0.0,>=0.7.1 in /opt/conda/envs/Python-3.9/lib/python3.9/site-packages (from boto3->watson-machine-learning-client) (0.10.0)\n",
      "Requirement already satisfied: botocore<1.22.0,>=1.21.21 in /opt/conda/envs/Python-3.9/lib/python3.9/site-packages (from boto3->watson-machine-learning-client) (1.21.41)\n",
      "Requirement already satisfied: python-dateutil<3.0.0,>=2.1 in /opt/conda/envs/Python-3.9/lib/python3.9/site-packages (from botocore<1.22.0,>=1.21.21->boto3->watson-machine-learning-client) (2.8.2)\n",
      "Requirement already satisfied: six>=1.5 in /opt/conda/envs/Python-3.9/lib/python3.9/site-packages (from python-dateutil<3.0.0,>=2.1->botocore<1.22.0,>=1.21.21->boto3->watson-machine-learning-client) (1.15.0)\n",
      "Requirement already satisfied: ibm-cos-sdk-s3transfer==2.11.0 in /opt/conda/envs/Python-3.9/lib/python3.9/site-packages (from ibm-cos-sdk->watson-machine-learning-client) (2.11.0)\n",
      "Requirement already satisfied: ibm-cos-sdk-core==2.11.0 in /opt/conda/envs/Python-3.9/lib/python3.9/site-packages (from ibm-cos-sdk->watson-machine-learning-client) (2.11.0)\n",
      "Requirement already satisfied: idna<4,>=2.5 in /opt/conda/envs/Python-3.9/lib/python3.9/site-packages (from requests->watson-machine-learning-client) (3.3)\n",
      "Requirement already satisfied: charset-normalizer~=2.0.0 in /opt/conda/envs/Python-3.9/lib/python3.9/site-packages (from requests->watson-machine-learning-client) (2.0.4)\n",
      "Requirement already satisfied: pytz>=2017.3 in /opt/conda/envs/Python-3.9/lib/python3.9/site-packages (from pandas->watson-machine-learning-client) (2021.3)\n",
      "Requirement already satisfied: numpy>=1.17.3 in /opt/conda/envs/Python-3.9/lib/python3.9/site-packages (from pandas->watson-machine-learning-client) (1.20.3)\n",
      "Installing collected packages: watson-machine-learning-client\n",
      "Successfully installed watson-machine-learning-client-1.0.391\n"
     ]
    }
   ],
   "source": [
    "!pip install watson-machine-learning-client --upgrade"
   ]
  },
  {
   "cell_type": "code",
   "execution_count": 96,
   "metadata": {},
   "outputs": [],
   "source": [
    "from ibm_watson_machine_learning import APIClient\n",
    "wml_credentials = {\n",
    "    \"url\": \"https://us-south.ml.cloud.ibm.com\",\n",
    "    \"apikey\": \"5ZhNtCJu2I_1FFhUtDiYw6TkwjjT8GYtsQcxD6YONuFb\"\n",
    "}\n",
    "client = APIClient(wml_credentials)"
   ]
  },
  {
   "cell_type": "code",
   "execution_count": 97,
   "metadata": {},
   "outputs": [],
   "source": [
    "def guid_from_space_name(client, space_name):\n",
    "    space = client.spaces.get_details()\n",
    "    #print(space)\n",
    "    return(next(item for item in space['resources'] if item['entity'][\"name\"] == space_name)['metadata']['id'])"
   ]
  },
  {
   "cell_type": "code",
   "execution_count": 98,
   "metadata": {},
   "outputs": [
    {
     "name": "stdout",
     "output_type": "stream",
     "text": [
      "Space UID = 4391dab6-5167-43fd-af5d-f7105da3e7eb\n"
     ]
    }
   ],
   "source": [
    "space_uid = guid_from_space_name(client, space_name='flight_price')\n",
    "print(\"Space UID = \" + space_uid)"
   ]
  },
  {
   "cell_type": "code",
   "execution_count": 99,
   "metadata": {},
   "outputs": [
    {
     "data": {
      "text/plain": [
       "'SUCCESS'"
      ]
     },
     "execution_count": 99,
     "metadata": {},
     "output_type": "execute_result"
    }
   ],
   "source": [
    "client.set.default_space(space_uid)"
   ]
  },
  {
   "cell_type": "code",
   "execution_count": 100,
   "metadata": {},
   "outputs": [
    {
     "name": "stdout",
     "output_type": "stream",
     "text": [
      "-----------------------------  ------------------------------------  ----\n",
      "NAME                           ASSET_ID                              TYPE\n",
      "default_py3.6                  0062b8c9-8b7d-44a0-a9b9-46c416adcbd9  base\n",
      "kernel-spark3.2-scala2.12      020d69ce-7ac1-5e68-ac1a-31189867356a  base\n",
      "pytorch-onnx_1.3-py3.7-edt     069ea134-3346-5748-b513-49120e15d288  base\n",
      "scikit-learn_0.20-py3.6        09c5a1d0-9c1e-4473-a344-eb7b665ff687  base\n",
      "spark-mllib_3.0-scala_2.12     09f4cff0-90a7-5899-b9ed-1ef348aebdee  base\n",
      "pytorch-onnx_rt22.1-py3.9      0b848dd4-e681-5599-be41-b5f6fccc6471  base\n",
      "ai-function_0.1-py3.6          0cdb0f1e-5376-4f4d-92dd-da3b69aa9bda  base\n",
      "shiny-r3.6                     0e6e79df-875e-4f24-8ae9-62dcc2148306  base\n",
      "tensorflow_2.4-py3.7-horovod   1092590a-307d-563d-9b62-4eb7d64b3f22  base\n",
      "pytorch_1.1-py3.6              10ac12d6-6b30-4ccd-8392-3e922c096a92  base\n",
      "tensorflow_1.15-py3.6-ddl      111e41b3-de2d-5422-a4d6-bf776828c4b7  base\n",
      "runtime-22.1-py3.9             12b83a17-24d8-5082-900f-0ab31fbfd3cb  base\n",
      "scikit-learn_0.22-py3.6        154010fa-5b3b-4ac1-82af-4d5ee5abbc85  base\n",
      "default_r3.6                   1b70aec3-ab34-4b87-8aa0-a4a3c8296a36  base\n",
      "pytorch-onnx_1.3-py3.6         1bc6029a-cc97-56da-b8e0-39c3880dbbe7  base\n",
      "pytorch-onnx_rt22.1-py3.9-edt  1d362186-7ad5-5b59-8b6c-9d0880bde37f  base\n",
      "tensorflow_2.1-py3.6           1eb25b84-d6ed-5dde-b6a5-3fbdf1665666  base\n",
      "spark-mllib_3.2                20047f72-0a98-58c7-9ff5-a77b012eb8f5  base\n",
      "tensorflow_2.4-py3.8-horovod   217c16f6-178f-56bf-824a-b19f20564c49  base\n",
      "runtime-22.1-py3.9-cuda        26215f05-08c3-5a41-a1b0-da66306ce658  base\n",
      "do_py3.8                       295addb5-9ef9-547e-9bf4-92ae3563e720  base\n",
      "autoai-ts_3.8-py3.8            2aa0c932-798f-5ae9-abd6-15e0c2402fb5  base\n",
      "tensorflow_1.15-py3.6          2b73a275-7cbf-420b-a912-eae7f436e0bc  base\n",
      "pytorch_1.2-py3.6              2c8ef57d-2687-4b7d-acce-01f94976dac1  base\n",
      "spark-mllib_2.3                2e51f700-bca0-4b0d-88dc-5c6791338875  base\n",
      "pytorch-onnx_1.1-py3.6-edt     32983cea-3f32-4400-8965-dde874a8d67e  base\n",
      "spark-mllib_3.0-py37           36507ebe-8770-55ba-ab2a-eafe787600e9  base\n",
      "spark-mllib_2.4                390d21f8-e58b-4fac-9c55-d7ceda621326  base\n",
      "xgboost_0.82-py3.6             39e31acd-5f30-41dc-ae44-60233c80306e  base\n",
      "pytorch-onnx_1.2-py3.6-edt     40589d0e-7019-4e28-8daa-fb03b6f4fe12  base\n",
      "default_r36py38                41c247d3-45f8-5a71-b065-8580229facf0  base\n",
      "autoai-ts_rt22.1-py3.9         4269d26e-07ba-5d40-8f66-2d495b0c71f7  base\n",
      "autoai-obm_3.0                 42b92e18-d9ab-567f-988a-4240ba1ed5f7  base\n",
      "pmml-3.0_4.3                   493bcb95-16f1-5bc5-bee8-81b8af80e9c7  base\n",
      "spark-mllib_2.4-r_3.6          49403dff-92e9-4c87-a3d7-a42d0021c095  base\n",
      "xgboost_0.90-py3.6             4ff8d6c2-1343-4c18-85e1-689c965304d3  base\n",
      "pytorch-onnx_1.1-py3.6         50f95b2a-bc16-43bb-bc94-b0bed208c60b  base\n",
      "autoai-ts_3.9-py3.8            52c57136-80fa-572e-8728-a5e7cbb42cde  base\n",
      "spark-mllib_2.4-scala_2.11     55a70f99-7320-4be5-9fb9-9edb5a443af5  base\n",
      "spark-mllib_3.0                5c1b0ca2-4977-5c2e-9439-ffd44ea8ffe9  base\n",
      "autoai-obm_2.0                 5c2e37fa-80b8-5e77-840f-d912469614ee  base\n",
      "spss-modeler_18.1              5c3cad7e-507f-4b2a-a9a3-ab53a21dee8b  base\n",
      "cuda-py3.8                     5d3232bf-c86b-5df4-a2cd-7bb870a1cd4e  base\n",
      "autoai-kb_3.1-py3.7            632d4b22-10aa-5180-88f0-f52dfb6444d7  base\n",
      "pytorch-onnx_1.7-py3.8         634d3cdc-b562-5bf9-a2d4-ea90a478456b  base\n",
      "spark-mllib_2.3-r_3.6          6586b9e3-ccd6-4f92-900f-0f8cb2bd6f0c  base\n",
      "tensorflow_2.4-py3.7           65e171d7-72d1-55d9-8ebb-f813d620c9bb  base\n",
      "spss-modeler_18.2              687eddc9-028a-4117-b9dd-e57b36f1efa5  base\n",
      "pytorch-onnx_1.2-py3.6         692a6a4d-2c4d-45ff-a1ed-b167ee55469a  base\n",
      "spark-mllib_2.3-scala_2.11     7963efe5-bbec-417e-92cf-0574e21b4e8d  base\n",
      "-----------------------------  ------------------------------------  ----\n",
      "Note: Only first 50 records were displayed. To display more use 'limit' parameter.\n"
     ]
    }
   ],
   "source": [
    "client.software_specifications.list()"
   ]
  },
  {
   "cell_type": "code",
   "execution_count": 101,
   "metadata": {},
   "outputs": [
    {
     "data": {
      "text/plain": [
       "'1.0.2'"
      ]
     },
     "execution_count": 101,
     "metadata": {},
     "output_type": "execute_result"
    }
   ],
   "source": [
    "import sklearn\n",
    "sklearn.__version__"
   ]
  },
  {
   "cell_type": "code",
   "execution_count": 102,
   "metadata": {},
   "outputs": [
    {
     "data": {
      "text/plain": [
       "'12b83a17-24d8-5082-900f-0ab31fbfd3cb'"
      ]
     },
     "execution_count": 102,
     "metadata": {},
     "output_type": "execute_result"
    }
   ],
   "source": [
    "software_spec_uid= client.software_specifications.get_uid_by_name(\"runtime-22.1-py3.9\")\n",
    "software_spec_uid"
   ]
  },
  {
   "cell_type": "code",
   "execution_count": 103,
   "metadata": {},
   "outputs": [],
   "source": [
    "model_details = client.repository.store_model(model='flight-price-model_new.tgz',\n",
    "                                              meta_props={client.repository.ModelMetaNames.NAME:\"flight_price\",\n",
    "                                                          client.repository.ModelMetaNames.TYPE:\"scikit-learn_1.0\",\n",
    "                                                          client.repository.ModelMetaNames.SOFTWARE_SPEC_UID:software_spec_uid\n",
    "                                                         },\n",
    "                                              training_data=x_train,\n",
    "                                              training_target=y_train)"
   ]
  },
  {
   "cell_type": "code",
   "execution_count": 104,
   "metadata": {},
   "outputs": [
    {
     "data": {
      "text/plain": [
       "'b5e2abab-dc30-4e62-ad94-b1f1867c0198'"
      ]
     },
     "execution_count": 104,
     "metadata": {},
     "output_type": "execute_result"
    }
   ],
   "source": [
    "model_id = client.repository.get_model_id(model_details)\n",
    "model_id"
   ]
  },
  {
   "cell_type": "code",
   "execution_count": 105,
   "metadata": {
    "scrolled": true
   },
   "outputs": [
    {
     "name": "stdout",
     "output_type": "stream",
     "text": [
      "\n",
      "\n",
      "#######################################################################################\n",
      "\n",
      "Synchronous deployment creation for uid: 'b5e2abab-dc30-4e62-ad94-b1f1867c0198' started\n",
      "\n",
      "#######################################################################################\n",
      "\n",
      "\n",
      "initializing\n",
      "Note: online_url is deprecated and will be removed in a future release. Use serving_urls instead.\n",
      "\n",
      "ready\n",
      "\n",
      "\n",
      "------------------------------------------------------------------------------------------------\n",
      "Successfully finished deployment creation, deployment_uid='c1171a8f-9134-489d-b273-1d9f7538246c'\n",
      "------------------------------------------------------------------------------------------------\n",
      "\n",
      "\n"
     ]
    }
   ],
   "source": [
    "# Deploy\n",
    "deployment = client.deployments.create(\n",
    "    artifact_uid=model_id, \n",
    "    meta_props={client.deployments.ConfigurationMetaNames.NAME:\"flights_deploy\", \n",
    "    client.deployments.ConfigurationMetaNames.ONLINE: {}\n",
    "})"
   ]
  },
  {
   "cell_type": "code",
   "execution_count": 109,
   "metadata": {
    "scrolled": true
   },
   "outputs": [
    {
     "data": {
      "text/html": [
       "<div>\n",
       "<style scoped>\n",
       "    .dataframe tbody tr th:only-of-type {\n",
       "        vertical-align: middle;\n",
       "    }\n",
       "\n",
       "    .dataframe tbody tr th {\n",
       "        vertical-align: top;\n",
       "    }\n",
       "\n",
       "    .dataframe thead th {\n",
       "        text-align: right;\n",
       "    }\n",
       "</style>\n",
       "<table border=\"1\" class=\"dataframe\">\n",
       "  <thead>\n",
       "    <tr style=\"text-align: right;\">\n",
       "      <th></th>\n",
       "      <th>Airline</th>\n",
       "      <th>Source</th>\n",
       "      <th>Destination</th>\n",
       "      <th>Date</th>\n",
       "      <th>Month</th>\n",
       "      <th>Year</th>\n",
       "      <th>Dep_Time_Hour</th>\n",
       "      <th>Dep_Time_Mins</th>\n",
       "      <th>Arrival_date</th>\n",
       "      <th>Arrival_Time_Hour</th>\n",
       "      <th>Arrival_Time_Mins</th>\n",
       "    </tr>\n",
       "  </thead>\n",
       "  <tbody>\n",
       "    <tr>\n",
       "      <th>10609</th>\n",
       "      <td>0.014251</td>\n",
       "      <td>1.739800</td>\n",
       "      <td>1.060501</td>\n",
       "      <td>0.529566</td>\n",
       "      <td>0.250165</td>\n",
       "      <td>0.0</td>\n",
       "      <td>-0.955114</td>\n",
       "      <td>-1.034142</td>\n",
       "      <td>0.483209</td>\n",
       "      <td>-0.779812</td>\n",
       "      <td>0.321872</td>\n",
       "    </tr>\n",
       "    <tr>\n",
       "      <th>1034</th>\n",
       "      <td>1.714993</td>\n",
       "      <td>0.040723</td>\n",
       "      <td>-0.295645</td>\n",
       "      <td>1.237192</td>\n",
       "      <td>-0.608727</td>\n",
       "      <td>0.0</td>\n",
       "      <td>0.436500</td>\n",
       "      <td>1.097353</td>\n",
       "      <td>1.191883</td>\n",
       "      <td>1.261222</td>\n",
       "      <td>-1.192894</td>\n",
       "    </tr>\n",
       "    <tr>\n",
       "      <th>8122</th>\n",
       "      <td>0.014251</td>\n",
       "      <td>0.040723</td>\n",
       "      <td>-0.295645</td>\n",
       "      <td>1.591005</td>\n",
       "      <td>1.109057</td>\n",
       "      <td>0.0</td>\n",
       "      <td>-1.824873</td>\n",
       "      <td>-0.501269</td>\n",
       "      <td>1.546220</td>\n",
       "      <td>-0.196659</td>\n",
       "      <td>0.624825</td>\n",
       "    </tr>\n",
       "    <tr>\n",
       "      <th>4779</th>\n",
       "      <td>0.014251</td>\n",
       "      <td>0.890262</td>\n",
       "      <td>-0.973718</td>\n",
       "      <td>-1.475375</td>\n",
       "      <td>-0.608727</td>\n",
       "      <td>0.0</td>\n",
       "      <td>-1.129066</td>\n",
       "      <td>0.298042</td>\n",
       "      <td>-1.524701</td>\n",
       "      <td>0.678070</td>\n",
       "      <td>-0.586988</td>\n",
       "    </tr>\n",
       "    <tr>\n",
       "      <th>3207</th>\n",
       "      <td>-0.410934</td>\n",
       "      <td>0.890262</td>\n",
       "      <td>-0.973718</td>\n",
       "      <td>1.237192</td>\n",
       "      <td>0.250165</td>\n",
       "      <td>0.0</td>\n",
       "      <td>0.958355</td>\n",
       "      <td>-1.034142</td>\n",
       "      <td>1.191883</td>\n",
       "      <td>1.407010</td>\n",
       "      <td>0.321872</td>\n",
       "    </tr>\n",
       "    <tr>\n",
       "      <th>...</th>\n",
       "      <td>...</td>\n",
       "      <td>...</td>\n",
       "      <td>...</td>\n",
       "      <td>...</td>\n",
       "      <td>...</td>\n",
       "      <td>...</td>\n",
       "      <td>...</td>\n",
       "      <td>...</td>\n",
       "      <td>...</td>\n",
       "      <td>...</td>\n",
       "      <td>...</td>\n",
       "    </tr>\n",
       "    <tr>\n",
       "      <th>5734</th>\n",
       "      <td>0.014251</td>\n",
       "      <td>0.040723</td>\n",
       "      <td>-0.295645</td>\n",
       "      <td>1.591005</td>\n",
       "      <td>-1.467619</td>\n",
       "      <td>0.0</td>\n",
       "      <td>-0.607211</td>\n",
       "      <td>-1.300579</td>\n",
       "      <td>1.664332</td>\n",
       "      <td>-1.362964</td>\n",
       "      <td>0.018919</td>\n",
       "    </tr>\n",
       "    <tr>\n",
       "      <th>5191</th>\n",
       "      <td>0.014251</td>\n",
       "      <td>0.890262</td>\n",
       "      <td>-0.973718</td>\n",
       "      <td>-0.531874</td>\n",
       "      <td>0.250165</td>\n",
       "      <td>0.0</td>\n",
       "      <td>0.262548</td>\n",
       "      <td>-1.034142</td>\n",
       "      <td>-0.579802</td>\n",
       "      <td>0.969646</td>\n",
       "      <td>1.230731</td>\n",
       "    </tr>\n",
       "    <tr>\n",
       "      <th>5390</th>\n",
       "      <td>0.864622</td>\n",
       "      <td>0.040723</td>\n",
       "      <td>-0.295645</td>\n",
       "      <td>0.175753</td>\n",
       "      <td>0.250165</td>\n",
       "      <td>0.0</td>\n",
       "      <td>-0.085355</td>\n",
       "      <td>1.363790</td>\n",
       "      <td>0.246984</td>\n",
       "      <td>-1.800328</td>\n",
       "      <td>0.321872</td>\n",
       "    </tr>\n",
       "    <tr>\n",
       "      <th>860</th>\n",
       "      <td>-0.410934</td>\n",
       "      <td>-1.658354</td>\n",
       "      <td>2.416648</td>\n",
       "      <td>-1.239500</td>\n",
       "      <td>-1.467619</td>\n",
       "      <td>0.0</td>\n",
       "      <td>-2.172777</td>\n",
       "      <td>0.830916</td>\n",
       "      <td>-1.288476</td>\n",
       "      <td>-1.508752</td>\n",
       "      <td>0.018919</td>\n",
       "    </tr>\n",
       "    <tr>\n",
       "      <th>7270</th>\n",
       "      <td>0.014251</td>\n",
       "      <td>1.739800</td>\n",
       "      <td>1.060501</td>\n",
       "      <td>-1.475375</td>\n",
       "      <td>1.109057</td>\n",
       "      <td>0.0</td>\n",
       "      <td>-0.433259</td>\n",
       "      <td>-0.234832</td>\n",
       "      <td>-1.524701</td>\n",
       "      <td>-0.342447</td>\n",
       "      <td>1.533684</td>\n",
       "    </tr>\n",
       "  </tbody>\n",
       "</table>\n",
       "<p>8544 rows × 11 columns</p>\n",
       "</div>"
      ],
      "text/plain": [
       "        Airline    Source  Destination      Date     Month  Year  \\\n",
       "10609  0.014251  1.739800     1.060501  0.529566  0.250165   0.0   \n",
       "1034   1.714993  0.040723    -0.295645  1.237192 -0.608727   0.0   \n",
       "8122   0.014251  0.040723    -0.295645  1.591005  1.109057   0.0   \n",
       "4779   0.014251  0.890262    -0.973718 -1.475375 -0.608727   0.0   \n",
       "3207  -0.410934  0.890262    -0.973718  1.237192  0.250165   0.0   \n",
       "...         ...       ...          ...       ...       ...   ...   \n",
       "5734   0.014251  0.040723    -0.295645  1.591005 -1.467619   0.0   \n",
       "5191   0.014251  0.890262    -0.973718 -0.531874  0.250165   0.0   \n",
       "5390   0.864622  0.040723    -0.295645  0.175753  0.250165   0.0   \n",
       "860   -0.410934 -1.658354     2.416648 -1.239500 -1.467619   0.0   \n",
       "7270   0.014251  1.739800     1.060501 -1.475375  1.109057   0.0   \n",
       "\n",
       "       Dep_Time_Hour  Dep_Time_Mins  Arrival_date  Arrival_Time_Hour  \\\n",
       "10609      -0.955114      -1.034142      0.483209          -0.779812   \n",
       "1034        0.436500       1.097353      1.191883           1.261222   \n",
       "8122       -1.824873      -0.501269      1.546220          -0.196659   \n",
       "4779       -1.129066       0.298042     -1.524701           0.678070   \n",
       "3207        0.958355      -1.034142      1.191883           1.407010   \n",
       "...              ...            ...           ...                ...   \n",
       "5734       -0.607211      -1.300579      1.664332          -1.362964   \n",
       "5191        0.262548      -1.034142     -0.579802           0.969646   \n",
       "5390       -0.085355       1.363790      0.246984          -1.800328   \n",
       "860        -2.172777       0.830916     -1.288476          -1.508752   \n",
       "7270       -0.433259      -0.234832     -1.524701          -0.342447   \n",
       "\n",
       "       Arrival_Time_Mins  \n",
       "10609           0.321872  \n",
       "1034           -1.192894  \n",
       "8122            0.624825  \n",
       "4779           -0.586988  \n",
       "3207            0.321872  \n",
       "...                  ...  \n",
       "5734            0.018919  \n",
       "5191            1.230731  \n",
       "5390            0.321872  \n",
       "860             0.018919  \n",
       "7270            1.533684  \n",
       "\n",
       "[8544 rows x 11 columns]"
      ]
     },
     "execution_count": 109,
     "metadata": {},
     "output_type": "execute_result"
    }
   ],
   "source": [
    "x_train"
   ]
  },
  {
   "cell_type": "code",
   "execution_count": 110,
   "metadata": {},
   "outputs": [
    {
     "data": {
      "text/plain": [
       "{'entity': {'hybrid_pipeline_software_specs': [],\n",
       "  'software_spec': {'id': '12b83a17-24d8-5082-900f-0ab31fbfd3cb',\n",
       "   'name': 'runtime-22.1-py3.9'},\n",
       "  'type': 'scikit-learn_1.0'},\n",
       " 'metadata': {'created_at': '2022-06-04T10:19:58.263Z',\n",
       "  'id': 'b5e2abab-dc30-4e62-ad94-b1f1867c0198',\n",
       "  'modified_at': '2022-06-04T10:20:02.419Z',\n",
       "  'name': 'flight_price',\n",
       "  'owner': 'IBMid-665001JLNH',\n",
       "  'resource_key': '367215fd-a4d6-4320-ab2f-ca12182b35fb',\n",
       "  'space_id': '4391dab6-5167-43fd-af5d-f7105da3e7eb'},\n",
       " 'system': {'warnings': []}}"
      ]
     },
     "execution_count": 110,
     "metadata": {},
     "output_type": "execute_result"
    }
   ],
   "source": [
    "model_details"
   ]
  },
  {
   "cell_type": "code",
   "execution_count": 106,
   "metadata": {},
   "outputs": [],
   "source": [
    "#https://medium.com/analytics-vidhya/regression-flight-price-prediction-6771fc4d1fb3"
   ]
  },
  {
   "cell_type": "code",
   "execution_count": 107,
   "metadata": {},
   "outputs": [],
   "source": [
    "#https://nevonprojects.com/flight-ticket-price-predictor-using-python/"
   ]
  },
  {
   "cell_type": "code",
   "execution_count": 108,
   "metadata": {},
   "outputs": [],
   "source": [
    "#https://www.twilio.com/blog/how-run-flask-application#:~:text=The%20flask%20run%20method%20is%20the%20newest%20solution,.%20A%20general%20utility%20script%20for%20Flask%20applications."
   ]
  }
 ],
 "metadata": {
  "kernelspec": {
   "display_name": "Python 3 (ipykernel)",
   "language": "python",
   "name": "python3"
  },
  "language_info": {
   "codemirror_mode": {
    "name": "ipython",
    "version": 3
   },
   "file_extension": ".py",
   "mimetype": "text/x-python",
   "name": "python",
   "nbconvert_exporter": "python",
   "pygments_lexer": "ipython3",
   "version": "3.9.7"
  }
 },
 "nbformat": 4,
 "nbformat_minor": 4
}
